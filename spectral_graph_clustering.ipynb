{
 "metadata": {
  "name": "",
  "signature": "sha256:212535946fb6b68b8d1d6a82358f709efe79d12cae66e51a99f341144766291d"
 },
 "nbformat": 3,
 "nbformat_minor": 0,
 "worksheets": [
  {
   "cells": [
    {
     "cell_type": "code",
     "collapsed": false,
     "input": [
      "import numpy as np\n",
      "from sympy import Matrix\n",
      "from scipy.sparse.linalg import *\n",
      "from sklearn import *"
     ],
     "language": "python",
     "metadata": {},
     "outputs": [
      {
       "output_type": "stream",
       "stream": "stderr",
       "text": [
        "/usr/lib/python2.7/dist-packages/sklearn/pls.py:7: DeprecationWarning: This module has been moved to cross_decomposition and will be removed in 0.16\n",
        "  \"removed in 0.16\", DeprecationWarning)\n"
       ]
      }
     ],
     "prompt_number": 2
    },
    {
     "cell_type": "code",
     "collapsed": false,
     "input": [
      "# Compute a similarity matrix from a squared distance matrix\n",
      "\n",
      "def similarity(Dist):\n",
      "    n=np.shape(Dist)[0]\n",
      "    M=np.max(Dist)\n",
      "    A=Dist/M\n",
      "    A=np.ones((n,n))-A\n",
      "    for i in range(n):\n",
      "        A[i,i]=0\n",
      "    return A"
     ],
     "language": "python",
     "metadata": {},
     "outputs": [],
     "prompt_number": 3
    },
    {
     "cell_type": "code",
     "collapsed": false,
     "input": [
      "# Compute the Laplacian of a Distance matrix\n",
      "\n",
      "def laplacian(A):\n",
      "    n=np.shape(A)[0]\n",
      "    D=np.zeros((n,n))\n",
      "    A=np.around(A,decimals=3)\n",
      "    S=np.sum(A,axis=1)\n",
      "    for i in range(n):\n",
      "        D[i,i]=S[i]\n",
      "    L=D-A\n",
      "    return L "
     ],
     "language": "python",
     "metadata": {},
     "outputs": [],
     "prompt_number": 4
    },
    {
     "cell_type": "code",
     "collapsed": false,
     "input": [
      "# Group lines of v into k clusters according to the (k-1)th first columns values\n",
      "\n",
      "def Kmeans_cluster(k,v):\n",
      "    km=cluster.KMeans(n_clusters=k)\n",
      "    km.fit(v[:,:k-1]) \n",
      "    return km.labels_\n"
     ],
     "language": "python",
     "metadata": {},
     "outputs": [],
     "prompt_number": 5
    },
    {
     "cell_type": "code",
     "collapsed": false,
     "input": [
      "# Group in 2 clusters of defined size\n",
      "\n",
      "def Cluster_equally(size0,size1,v):\n",
      "    n=np.shape(v)[0]\n",
      "    km=cluster.KMeans(n_clusters=2)\n",
      "    v_col=np.array([v[:,1]]).T\n",
      "    km.fit(v_col)\n",
      "    centers=km.cluster_centers_ \n",
      "    dist_0=abs(v_col-centers[0])\n",
      "    dist_1=abs(v_col-centers[1])\n",
      "    best_1=dist_1-dist_0\n",
      "    best_1_ind=np.argsort(best_1,axis=0)\n",
      "    \n",
      "    clusters=np.zeros((1,n))\n",
      "    count_1=0\n",
      "    while count_1<size1:\n",
      "        clusters[0,best_1_ind[count_1]]=1\n",
      "        count_1+=1\n",
      "    return clusters[0]"
     ],
     "language": "python",
     "metadata": {},
     "outputs": [],
     "prompt_number": 87
    },
    {
     "cell_type": "code",
     "collapsed": false,
     "input": [
      "# Main function of the script\n",
      "# Takes\n",
      "#- Distance matrix : square with 0 in the diagonal\n",
      "#- k the number of clusters to estimate\n",
      "# Returns\n",
      "#- the Adjacency matrix corresponding to the clusterization estimated\n",
      "def adjacency_KClusters(Dist,k):\n",
      "    S=similarity(Dist)\n",
      "    n=np.shape(S)[0]\n",
      "    L=laplacian(S)\n",
      "    w,v=np.linalg.eig(L)\n",
      "    print v\n",
      "    ind_sorted_eigvals=np.argsort(w)\n",
      "    v=v[:,ind_sorted_eigvals]\n",
      "    w=w[ind_sorted_eigvals]\n",
      "    v=v[:,1:k]\n",
      "    clusters=Kmeans_cluster(k,v)\n",
      "    A=np.zeros((n,n))\n",
      "    for i in range(n):\n",
      "        for j in range(n):\n",
      "            if clusters[i]==clusters[j]:\n",
      "                A[i,j]=1\n",
      "    return A\n",
      "    "
     ],
     "language": "python",
     "metadata": {},
     "outputs": [],
     "prompt_number": 7
    },
    {
     "cell_type": "code",
     "collapsed": false,
     "input": [
      " Delta=[[ 0. ,0.00170612,  0.00169131,  0.02469532,  0.0017214,   0.01065122],\n",
      " [ 0.00170612 , 0.        ,  0.00156305 , 0.02263081 , 0.00165207 , 0.02359098],\n",
      " [ 0.00169131 , 0.00156305  ,0.         , 0.02215095  ,0.00170867 , 0.02426879],\n",
      " [ 0.02469532 , 0.02263081 , 0.02215095 , 0.          ,0.00105833 , 0.00064471],\n",
      " [ 0.0017214  , 0.00165207 , 0.00170867 , 0.00105833 , 0.          ,0.00068122],\n",
      " [ 0.01065122 , 0.02359098 , 0.02426879 , 0.00064471  ,0.00068122 , 0.        ]]\n",
      "\n",
      "# A=adjacency_KClusters(Delta,2)\n",
      "# print A"
     ],
     "language": "python",
     "metadata": {},
     "outputs": [],
     "prompt_number": 8
    },
    {
     "cell_type": "code",
     "collapsed": false,
     "input": [
      "S=similarity(Delta)\n",
      "n=np.shape(S)[0]\n",
      "L=laplacian(S)\n",
      "w,v=np.linalg.eig(L)"
     ],
     "language": "python",
     "metadata": {},
     "outputs": [],
     "prompt_number": 98
    },
    {
     "cell_type": "code",
     "collapsed": false,
     "input": [],
     "language": "python",
     "metadata": {},
     "outputs": []
    }
   ],
   "metadata": {}
  }
 ]
}