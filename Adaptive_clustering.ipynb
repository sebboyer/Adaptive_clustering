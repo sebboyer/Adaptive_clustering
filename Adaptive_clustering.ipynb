{
 "metadata": {
  "name": "",
  "signature": "sha256:6576ab2a8a41ed801fff6a0107895c5e0da4d751c2e8fe0aee0edd0a20d314bc"
 },
 "nbformat": 3,
 "nbformat_minor": 0,
 "worksheets": [
  {
   "cells": [
    {
     "cell_type": "markdown",
     "metadata": {},
     "source": [
      "### Importations"
     ]
    },
    {
     "cell_type": "code",
     "collapsed": false,
     "input": [
      "import numpy as np\n",
      "from copy import copy, deepcopy\n",
      "from EM_algorithm import *\n",
      "from votes_EM_model import *\n",
      "from Assessor_model import *"
     ],
     "language": "python",
     "metadata": {},
     "outputs": [],
     "prompt_number": 59
    },
    {
     "cell_type": "markdown",
     "metadata": {},
     "source": [
      "### Generate votes with EM model"
     ]
    },
    {
     "cell_type": "code",
     "collapsed": false,
     "input": [
      "# #Objects relationships\n",
      "# N=10\n",
      "# Delta=np.random.rand(N,N)\n",
      "# Delta=0.5*(Delta+Delta.T)\n",
      "# #Assessors accuracy\n",
      "# K=10\n",
      "# Assessors=0.25*np.random.rand(K)\n",
      "# #Votes\n",
      "# Votes={}\n",
      "# for k in range(K):\n",
      "#     Votes[k]={}"
     ],
     "language": "python",
     "metadata": {},
     "outputs": [],
     "prompt_number": 2
    },
    {
     "cell_type": "code",
     "collapsed": false,
     "input": [
      "# k_list=[3,5,7,8,9]\n",
      "# pair_dic={3:[[1,2],[2,3]],5:[[2,3],[6,7]],7:[[5,6],[2,5]],8:[[6,1]],9:[[7,8]]}\n",
      "\n",
      "# Update_Votes(k_list,pair_dic,Votes,Assessors,Delta)"
     ],
     "language": "python",
     "metadata": {},
     "outputs": [],
     "prompt_number": 3
    },
    {
     "cell_type": "markdown",
     "metadata": {},
     "source": [
      "### Generate votes with feature model"
     ]
    },
    {
     "cell_type": "code",
     "collapsed": false,
     "input": [
      "def symmetrized_Votes(votes):\n",
      "    for key in votes:\n",
      "        key_pairs=votes[key].keys()\n",
      "        for key_pair in key_pairs:\n",
      "            votes[key][key_pair[1],key_pair[0]]=votes[key][key_pair]"
     ],
     "language": "python",
     "metadata": {},
     "outputs": [],
     "prompt_number": 9
    },
    {
     "cell_type": "code",
     "collapsed": false,
     "input": [
      "# Creating the objects within different clusters\n",
      "n_object=6\n",
      "n_clusters=2\n",
      "dim=2\n",
      "\n",
      "set_of_objects=list()\n",
      "for i in range(n_clusters):\n",
      "    C=Cluster(n_object/n_clusters,(5*i)%10,2)\n",
      "    C.populate_random_multivariate()\n",
      "    set_of_objects+=[C.objects[i] for i in range(n_object/n_clusters)]"
     ],
     "language": "python",
     "metadata": {},
     "outputs": [],
     "prompt_number": 74
    },
    {
     "cell_type": "code",
     "collapsed": false,
     "input": [
      "# Creating assessors and generating votes\n",
      "\n",
      "n_assessors=3\n",
      "n_assessments_per_assessor=2\n",
      "\n",
      "set_of_assessors=[Assessor(i%10,5) for i in range(n_assessors)]\n",
      "\n",
      "assessment_list=list()\n",
      "for i in range(len(set_of_assessors)):\n",
      "    assessment_list+=[[i,[np.random.randint(0,n_object),np.random.randint(0,n_object),np.random.randint(0,n_object),np.random.randint(0,n_object),np.random.randint(0,n_object),np.random.randint(0,n_object)]] for i in range(n_assessments_per_assessor)]\n",
      "\n",
      "exp=Experiment(set_of_assessors,set_of_objects,assessment_list)\n",
      "exp.procede_assessments()\n",
      "Votes=exp.get_results()\n",
      "symmetrized_Votes(Votes)"
     ],
     "language": "python",
     "metadata": {},
     "outputs": [
      {
       "output_type": "stream",
       "stream": "stdout",
       "text": [
        "[1 1 1 0 0 1]\n",
        "[1 0 0 0 0 0]\n",
        "[1 0 0 0 1 1]\n",
        "[0 1 1 0 0 0]\n",
        "[1 0 0 1 1 1]\n",
        "[0 1 0 1 0 0]\n"
       ]
      }
     ],
     "prompt_number": 97
    },
    {
     "cell_type": "markdown",
     "metadata": {},
     "source": [
      "### Estimate distance matrix"
     ]
    },
    {
     "cell_type": "code",
     "collapsed": false,
     "input": [
      "Delta_est,Assessors_est=EM_est(Votes,n_object,0.01)"
     ],
     "language": "python",
     "metadata": {},
     "outputs": [
      {
       "output_type": "stream",
       "stream": "stdout",
       "text": [
        "Convergence reached in 6 iterations\n"
       ]
      }
     ],
     "prompt_number": 98
    },
    {
     "cell_type": "code",
     "collapsed": false,
     "input": [
      "print Delta_est"
     ],
     "language": "python",
     "metadata": {},
     "outputs": [
      {
       "output_type": "stream",
       "stream": "stdout",
       "text": [
        "[[ 0.          0.00170612  0.00169131  0.02469532  0.0017214   0.01065122]\n",
        " [ 0.00170612  0.          0.00156305  0.02263081  0.00165207  0.02359098]\n",
        " [ 0.00169131  0.00156305  0.          0.02215095  0.00170867  0.02426879]\n",
        " [ 0.02469532  0.02263081  0.02215095  0.          0.00105833  0.00064471]\n",
        " [ 0.0017214   0.00165207  0.00170867  0.00105833  0.          0.00068122]\n",
        " [ 0.01065122  0.02359098  0.02426879  0.00064471  0.00068122  0.        ]]\n"
       ]
      }
     ],
     "prompt_number": 99
    },
    {
     "cell_type": "code",
     "collapsed": false,
     "input": [
      "def max_eigen_value(M):\n",
      "    return max(np.linalg.eig(M)[0])\n",
      "def euclidianize(M,beta):\n",
      "    n=np.shape(M)[0]\n",
      "    N=M+beta*(np.ones((n,n))-np.eye(n))\n",
      "    return N\n",
      "\n",
      "n=np.shape(Delta_est)[0]\n",
      "P=np.eye(n)-(1/float(n))*np.ones((n,n))\n",
      "PDP=np.dot(np.dot(P,Delta_est),P)\n",
      "beta=max_eigen_value(PDP)\n",
      "PD_betaP=np.dot(np.dot(P,Delta_est-beta*np.eye(n)),P)\n",
      "print max_eigen_value(PDP)\n",
      "print max_eigen_value(PD_betaP)"
     ],
     "language": "python",
     "metadata": {},
     "outputs": [
      {
       "output_type": "stream",
       "stream": "stdout",
       "text": [
        "0.00869972288813\n",
        "-2.28747636443e-19\n"
       ]
      }
     ],
     "prompt_number": 113
    },
    {
     "cell_type": "code",
     "collapsed": false,
     "input": [
      "# Take distance matrix M and return adjacency matrix based on threshold t\n",
      "def distance_threshold(M,t):\n",
      "    Adj=deepcopy(M)\n",
      "    for i in range(np.shape(Adj)[0]):\n",
      "        for j in range(np.shape(Adj)[1]):\n",
      "            if Adj[i,j]<t:\n",
      "                Adj[i,j]=1\n",
      "            else:\n",
      "                Adj[i,j]=0\n",
      "    return Adj"
     ],
     "language": "python",
     "metadata": {},
     "outputs": [],
     "prompt_number": 100
    },
    {
     "cell_type": "code",
     "collapsed": false,
     "input": [
      "t=0.006\n",
      "Adjacency=distance_threshold(Delta_est,t)\n",
      "print Adjacency"
     ],
     "language": "python",
     "metadata": {},
     "outputs": [
      {
       "output_type": "stream",
       "stream": "stdout",
       "text": [
        "[[ 1.  1.  1.  0.  1.  0.]\n",
        " [ 1.  1.  1.  0.  1.  0.]\n",
        " [ 1.  1.  1.  0.  1.  0.]\n",
        " [ 0.  0.  0.  1.  1.  1.]\n",
        " [ 1.  1.  1.  1.  1.  1.]\n",
        " [ 0.  0.  0.  1.  1.  1.]]\n"
       ]
      }
     ],
     "prompt_number": 101
    },
    {
     "cell_type": "code",
     "collapsed": false,
     "input": [],
     "language": "python",
     "metadata": {},
     "outputs": []
    }
   ],
   "metadata": {}
  }
 ]
}