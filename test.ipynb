{
 "metadata": {
  "name": ""
 },
 "nbformat": 3,
 "nbformat_minor": 0,
 "worksheets": [
  {
   "cells": [
    {
     "cell_type": "code",
     "collapsed": false,
     "input": [
      "from definitions import *\n",
      "import pickle\n",
      "import montecarlo_experiments as mce\n",
      "%matplotlib inline"
     ],
     "language": "python",
     "metadata": {},
     "outputs": [
      {
       "output_type": "stream",
       "stream": "stderr",
       "text": [
        "/usr/lib/python2.7/dist-packages/sklearn/pls.py:7: DeprecationWarning: This module has been moved to cross_decomposition and will be removed in 0.16\n",
        "  \"removed in 0.16\", DeprecationWarning)\n"
       ]
      }
     ],
     "prompt_number": 1
    },
    {
     "cell_type": "code",
     "collapsed": false,
     "input": [
      "############### Creating the objects within different clusters\n",
      "\n",
      "n_objects=32\n",
      "n_clusters=4\n",
      "dimension=2\n",
      "scale=3\n",
      "\n",
      "[set_of_objects,real_clusters,fig_ob]=pbg.generate_objects(n_objects,n_clusters,dimension,scale)\n",
      "# plt.savefig('Results/objects.png')\n",
      "\n",
      "############### Creating assessors and generating votes with adaptive method\n",
      "\n",
      "n_assessors=6\n",
      "var_min=0.5\n",
      "var_max=0.5\n",
      "beta_param=5\n",
      "set_of_assessors=pbg.generate_assessors(n_assessors,var_min,var_max,beta_param)\n",
      "\n",
      "################  Creating adaptive method\n",
      "adaptive_method=ass.Adaptive_method(nm.rand_ass_gene,nm.rand_ob_gene)\n"
     ],
     "language": "python",
     "metadata": {},
     "outputs": [
      {
       "metadata": {},
       "output_type": "display_data",
       "png": "[encoded data removed]",
       "text": [
        "<matplotlib.figure.Figure at 0x7fa4ed700710>"
       ]
      }
     ],
     "prompt_number": 2
    },
    {
     "cell_type": "code",
     "collapsed": false,
     "input": [
      "i=0\n",
      "for ob in set_of_objects:\n",
      "    print i, ob.features\n",
      "    i+=1"
     ],
     "language": "python",
     "metadata": {},
     "outputs": [
      {
       "output_type": "stream",
       "stream": "stdout",
       "text": [
        "0 [-1.1655483  -0.66483597]\n",
        "1 [-0.24428358 -2.01678355]\n",
        "2 [-1.67271459 -0.500742  ]\n",
        "3 [ 1.28219608 -1.61153657]\n",
        "4 [-1.23858021 -0.79766837]\n",
        "5 [ 0.05409685  1.05887964]\n",
        "6 [-0.67030503 -0.15903114]\n",
        "7 [ 3.0370679   0.25408164]\n",
        "8 [-0.59815593  0.73701622]\n",
        "9 [-0.71330268 -1.40026065]\n",
        "10 [ 0.46655936 -0.16499672]\n",
        "11 [ 2.26361713  3.72623567]\n",
        "12 [ 0.389937    2.28484528]\n",
        "13 [ 4.41089457  2.37327456]\n",
        "14 [ 2.69327401  0.21337652]\n",
        "15 [ 1.76469573  2.71317417]\n",
        "16 [ 2.01043173  4.61671184]\n",
        "17 [ 2.99606353  0.27773291]\n",
        "18 [ 4.051732    3.04251714]\n",
        "19 [ 2.87803534  2.71140295]\n",
        "20 [ 4.83700367  3.11089254]\n",
        "21 [ 2.59234006  0.47573269]\n",
        "22 [ 11.64893701   6.14861765]\n",
        "23 [ 10.41976072   6.58575887]\n",
        "24 [ 8.77673265  4.40052119]\n",
        "25 [ 11.45368362   4.24695207]\n",
        "26 [ 11.43267988   2.84144483]\n",
        "27 [ 10.74255803   3.77866028]\n",
        "28 [ 11.31091154   4.66269387]\n",
        "29 [ 11.41664056   4.46991769]\n",
        "30 [ 10.57242455   4.0376233 ]\n",
        "31 [ 8.92575747  3.04730351]\n",
        "32 [ 8.54392751  5.11945634]\n"
       ]
      }
     ],
     "prompt_number": 52
    },
    {
     "cell_type": "code",
     "collapsed": false,
     "input": [
      "exp=ass.Experiment(set_of_assessors,set_of_objects,adaptive_method)\n",
      "n_assessments=50\n",
      "n_object_per_assessment=6\n",
      "True_K=False\n",
      "Known_K=False\n",
      "for i in range(n_assessments):\n",
      "    exp.procede_adaptive_assessment(n_clusters,True_K,Known_K,n_object_per_assessment,0,0)\n",
      "Votes=exp.get_results()"
     ],
     "language": "python",
     "metadata": {},
     "outputs": [],
     "prompt_number": 5
    },
    {
     "cell_type": "code",
     "collapsed": false,
     "input": [
      "results=Votes"
     ],
     "language": "python",
     "metadata": {},
     "outputs": [],
     "prompt_number": 6
    },
    {
     "cell_type": "code",
     "collapsed": false,
     "input": [
      "results[0]"
     ],
     "language": "python",
     "metadata": {},
     "outputs": [
      {
       "metadata": {},
       "output_type": "pyout",
       "prompt_number": 18,
       "text": [
        "{(1, 3): True,\n",
        " (1, 10): False,\n",
        " (1, 11): False,\n",
        " (1, 12): False,\n",
        " (1, 17): True,\n",
        " (1, 18): True,\n",
        " (1, 19): True,\n",
        " (1, 27): False,\n",
        " (1, 28): False,\n",
        " (2, 6): True,\n",
        " (2, 7): True,\n",
        " (2, 16): False,\n",
        " (2, 30): False,\n",
        " (3, 1): True,\n",
        " (3, 10): False,\n",
        " (3, 11): False,\n",
        " (3, 12): False,\n",
        " (3, 14): False,\n",
        " (3, 17): True,\n",
        " (3, 18): True,\n",
        " (3, 19): False,\n",
        " (3, 21): False,\n",
        " (3, 24): False,\n",
        " (3, 27): False,\n",
        " (3, 28): False,\n",
        " (3, 31): False,\n",
        " (4, 7): True,\n",
        " (4, 11): True,\n",
        " (4, 13): False,\n",
        " (4, 15): False,\n",
        " (4, 18): True,\n",
        " (4, 23): True,\n",
        " (4, 25): False,\n",
        " (4, 28): False,\n",
        " (4, 29): False,\n",
        " (5, 6): True,\n",
        " (5, 7): True,\n",
        " (5, 18): True,\n",
        " (5, 28): False,\n",
        " (5, 31): False,\n",
        " (6, 2): True,\n",
        " (6, 5): True,\n",
        " (6, 6): True,\n",
        " (6, 7): True,\n",
        " (6, 16): False,\n",
        " (6, 18): True,\n",
        " (6, 28): False,\n",
        " (6, 30): False,\n",
        " (6, 31): False,\n",
        " (7, 2): True,\n",
        " (7, 4): True,\n",
        " (7, 5): True,\n",
        " (7, 6): True,\n",
        " (7, 11): True,\n",
        " (7, 12): True,\n",
        " (7, 13): False,\n",
        " (7, 15): False,\n",
        " (7, 16): False,\n",
        " (7, 18): True,\n",
        " (7, 23): True,\n",
        " (7, 25): False,\n",
        " (7, 28): False,\n",
        " (7, 29): False,\n",
        " (7, 30): False,\n",
        " (7, 31): False,\n",
        " (10, 1): False,\n",
        " (10, 3): False,\n",
        " (10, 11): True,\n",
        " (10, 27): False,\n",
        " (10, 28): False,\n",
        " (11, 1): False,\n",
        " (11, 3): False,\n",
        " (11, 4): True,\n",
        " (11, 7): True,\n",
        " (11, 10): True,\n",
        " (11, 12): True,\n",
        " (11, 23): True,\n",
        " (11, 25): False,\n",
        " (11, 27): False,\n",
        " (11, 28): False,\n",
        " (11, 29): False,\n",
        " (12, 1): False,\n",
        " (12, 3): False,\n",
        " (12, 7): True,\n",
        " (12, 11): True,\n",
        " (12, 12): True,\n",
        " (12, 13): False,\n",
        " (12, 15): False,\n",
        " (12, 16): False,\n",
        " (12, 17): False,\n",
        " (12, 18): False,\n",
        " (12, 19): False,\n",
        " (12, 23): True,\n",
        " (12, 28): False,\n",
        " (12, 29): False,\n",
        " (13, 4): False,\n",
        " (13, 7): False,\n",
        " (13, 12): False,\n",
        " (13, 15): True,\n",
        " (13, 16): False,\n",
        " (13, 18): False,\n",
        " (13, 19): False,\n",
        " (13, 25): False,\n",
        " (14, 3): False,\n",
        " (14, 19): False,\n",
        " (14, 21): False,\n",
        " (14, 24): False,\n",
        " (14, 31): False,\n",
        " (15, 4): False,\n",
        " (15, 7): False,\n",
        " (15, 12): False,\n",
        " (15, 13): True,\n",
        " (15, 16): False,\n",
        " (15, 18): False,\n",
        " (15, 19): False,\n",
        " (15, 25): False,\n",
        " (16, 2): False,\n",
        " (16, 6): False,\n",
        " (16, 7): False,\n",
        " (16, 12): False,\n",
        " (16, 13): False,\n",
        " (16, 15): False,\n",
        " (16, 19): True,\n",
        " (16, 30): False,\n",
        " (17, 1): True,\n",
        " (17, 3): True,\n",
        " (17, 12): False,\n",
        " (17, 18): True,\n",
        " (17, 19): True,\n",
        " (18, 1): True,\n",
        " (18, 3): True,\n",
        " (18, 4): True,\n",
        " (18, 5): True,\n",
        " (18, 6): True,\n",
        " (18, 7): True,\n",
        " (18, 12): False,\n",
        " (18, 13): False,\n",
        " (18, 15): False,\n",
        " (18, 17): True,\n",
        " (18, 19): True,\n",
        " (18, 25): False,\n",
        " (18, 28): False,\n",
        " (18, 31): False,\n",
        " (19, 1): True,\n",
        " (19, 3): False,\n",
        " (19, 12): False,\n",
        " (19, 13): False,\n",
        " (19, 14): False,\n",
        " (19, 15): False,\n",
        " (19, 16): True,\n",
        " (19, 17): True,\n",
        " (19, 18): True,\n",
        " (19, 21): True,\n",
        " (19, 24): False,\n",
        " (19, 31): False,\n",
        " (21, 3): False,\n",
        " (21, 14): False,\n",
        " (21, 19): True,\n",
        " (21, 24): False,\n",
        " (21, 31): False,\n",
        " (23, 4): True,\n",
        " (23, 7): True,\n",
        " (23, 11): True,\n",
        " (23, 12): True,\n",
        " (23, 25): False,\n",
        " (23, 28): False,\n",
        " (23, 29): False,\n",
        " (24, 3): False,\n",
        " (24, 14): False,\n",
        " (24, 19): False,\n",
        " (24, 21): False,\n",
        " (24, 31): True,\n",
        " (25, 4): False,\n",
        " (25, 7): False,\n",
        " (25, 11): False,\n",
        " (25, 13): False,\n",
        " (25, 15): False,\n",
        " (25, 18): False,\n",
        " (25, 23): False,\n",
        " (25, 28): True,\n",
        " (25, 29): True,\n",
        " (27, 1): False,\n",
        " (27, 3): False,\n",
        " (27, 10): False,\n",
        " (27, 11): False,\n",
        " (27, 28): True,\n",
        " (28, 1): False,\n",
        " (28, 3): False,\n",
        " (28, 4): False,\n",
        " (28, 5): False,\n",
        " (28, 6): False,\n",
        " (28, 7): False,\n",
        " (28, 10): False,\n",
        " (28, 11): False,\n",
        " (28, 12): False,\n",
        " (28, 18): False,\n",
        " (28, 23): False,\n",
        " (28, 25): True,\n",
        " (28, 27): True,\n",
        " (28, 29): True,\n",
        " (28, 31): True,\n",
        " (29, 4): False,\n",
        " (29, 7): False,\n",
        " (29, 11): False,\n",
        " (29, 12): False,\n",
        " (29, 23): False,\n",
        " (29, 25): True,\n",
        " (29, 28): True,\n",
        " (30, 2): False,\n",
        " (30, 6): False,\n",
        " (30, 7): False,\n",
        " (30, 16): False,\n",
        " (31, 3): False,\n",
        " (31, 5): False,\n",
        " (31, 6): False,\n",
        " (31, 7): False,\n",
        " (31, 14): False,\n",
        " (31, 18): False,\n",
        " (31, 19): False,\n",
        " (31, 21): False,\n",
        " (31, 24): True,\n",
        " (31, 28): True}"
       ]
      }
     ],
     "prompt_number": 18
    },
    {
     "cell_type": "code",
     "collapsed": false,
     "input": [
      "print sum([len(results[i].keys()) for i in results.keys()])/50.0"
     ],
     "language": "python",
     "metadata": {},
     "outputs": [
      {
       "output_type": "stream",
       "stream": "stdout",
       "text": [
        "24.1\n"
       ]
      }
     ],
     "prompt_number": 17
    },
    {
     "cell_type": "code",
     "collapsed": false,
     "input": [
      "pairs={}\n",
      "for assess in Votes:\n",
      "    for pair in Votes[assess]:\n",
      "        if pair not in pairs:\n",
      "            pairs[pair]=[0,0]\n",
      "        pairs[pair][0]+=1\n",
      "        if Votes[assess][pair]:\n",
      "           pairs[pair][1]+=1 "
     ],
     "language": "python",
     "metadata": {},
     "outputs": [],
     "prompt_number": 107
    },
    {
     "cell_type": "code",
     "collapsed": false,
     "input": [
      "adja={}\n",
      "t=0.5\n",
      "for pair in pairs:\n",
      "    if pair[0] not in adja:\n",
      "        adja[pair[0]]=list()\n",
      "    if pairs[pair][1]/float(pairs[pair][0])>t and pair[0]!=pair[1]:\n",
      "        adja[pair[0]].append(pair[1])"
     ],
     "language": "python",
     "metadata": {},
     "outputs": [],
     "prompt_number": 108
    },
    {
     "cell_type": "code",
     "collapsed": false,
     "input": [
      "Delta_est=em.naive_distance(Votes,n_objects)\n",
      "S_est=0"
     ],
     "language": "python",
     "metadata": {},
     "outputs": [],
     "prompt_number": 109
    },
    {
     "cell_type": "code",
     "collapsed": false,
     "input": [
      "est_adj,v=adjacency_KClusters(Delta_est,n_clusters)\n",
      "print est_adj"
     ],
     "language": "python",
     "metadata": {},
     "outputs": [
      {
       "output_type": "stream",
       "stream": "stdout",
       "text": [
        "[[ 1.  1.  1. ...,  1.  1.  1.]\n",
        " [ 1.  1.  1. ...,  1.  1.  1.]\n",
        " [ 1.  1.  1. ...,  1.  1.  1.]\n",
        " ..., \n",
        " [ 1.  1.  1. ...,  1.  1.  1.]\n",
        " [ 1.  1.  1. ...,  1.  1.  1.]\n",
        " [ 1.  1.  1. ...,  1.  1.  1.]]\n"
       ]
      }
     ],
     "prompt_number": 125
    },
    {
     "cell_type": "code",
     "collapsed": false,
     "input": [
      "w=v[:,1:kmax]"
     ],
     "language": "python",
     "metadata": {},
     "outputs": [],
     "prompt_number": 129
    },
    {
     "cell_type": "code",
     "collapsed": false,
     "input": [
      "kmax=5\n",
      "gmm_labels=GMM_cluster(w,kmax)"
     ],
     "language": "python",
     "metadata": {},
     "outputs": [],
     "prompt_number": 130
    },
    {
     "cell_type": "code",
     "collapsed": false,
     "input": [
      "gmm_labels"
     ],
     "language": "python",
     "metadata": {},
     "outputs": [
      {
       "metadata": {},
       "output_type": "pyout",
       "prompt_number": 131,
       "text": [
        "array([3, 3, 3, 3, 3, 3, 3, 3, 0, 0, 0, 0, 0, 0, 0, 2, 1, 1, 1, 1, 1, 1, 1,\n",
        "       1, 2, 2, 2, 2, 2, 2, 2, 2])"
       ]
      }
     ],
     "prompt_number": 131
    },
    {
     "cell_type": "code",
     "collapsed": false,
     "input": [
      "for i in range(1,10):\n",
      "    gmm=mixture.GMM(n_components=i+1)\n",
      "    gmm.fit(v)\n",
      "    print i+1,gmm.bic(v),gmm.predict(v)"
     ],
     "language": "python",
     "metadata": {},
     "outputs": [
      {
       "output_type": "stream",
       "stream": "stdout",
       "text": [
        "2 -199.753471968 [0 0 0 0 0 0 0 0 0 0 0 0 0 0 0 0 1 1 1 1 1 1 1 1 0 0 0 0 0 0 0 0]\n",
        "3 -278.788080449 [1 1 1 1 1 1 1 1 0 0 0 0 0 0 0 1 2 2 2 2 2 2 2 2 1 1 1 1 1 1 1 1]\n",
        "4 -304.661255065 [1 1 1 1 1 1 1 1 0 0 0 0 0 0 0 1 2 2 2 2 2 2 2 2 3 3 3 3 3 3 3 3]\n",
        "5"
       ]
      },
      {
       "output_type": "stream",
       "stream": "stdout",
       "text": [
        " -280.401103745 [3 3 3 3 3 3 3 3 2 2 2 2 2 2 2 3 1 1 1 1 1 1 1 1 0 0 0 0 0 0 0 0]\n",
        "6 -256.140952426 [2 2 2 2 2 2 2 2 1 1 1 1 1 1 1 2 4 4 4 0 4 4 0 0 5 5 5 5 5 5 5 5]\n",
        "7 -231.880801106 [3 3 3 3 3 3 3 3 0 0 0 0 0 0 0 3 1 1 1 4 1 1 1 1 6 6 6 6 6 6 6 6]\n",
        "8"
       ]
      },
      {
       "output_type": "stream",
       "stream": "stdout",
       "text": [
        " -207.620649786 [1 1 1 1 1 1 1 1 3 3 3 3 3 3 3 1 5 5 5 5 5 5 5 5 4 4 4 4 4 4 4 4]\n",
        "9"
       ]
      },
      {
       "output_type": "stream",
       "stream": "stdout",
       "text": [
        " -183.360498467 [3 3 3 3 3 3 3 3 2 2 2 2 2 2 2 3 1 4 4 1 1 1 1 1 0 0 0 6 0 0 6 0]\n",
        "10"
       ]
      },
      {
       "output_type": "stream",
       "stream": "stdout",
       "text": [
        " -159.100347147 [1 1 1 1 1 1 1 1 3 3 3 3 3 3 3 1 4 4 4 4 4 4 4 4 5 5 5 5 5 5 5 5]\n"
       ]
      }
     ],
     "prompt_number": 113
    },
    {
     "cell_type": "code",
     "collapsed": false,
     "input": [
      "gmm.bic(v)"
     ],
     "language": "python",
     "metadata": {},
     "outputs": [
      {
       "metadata": {},
       "output_type": "pyout",
       "prompt_number": 76,
       "text": [
        "-122.91294137785346"
       ]
      }
     ],
     "prompt_number": 76
    },
    {
     "cell_type": "code",
     "collapsed": false,
     "input": [
      "k=4\n",
      "km=cluster.KMeans(n_clusters=k)\n",
      "km.fit(v[:,:k-1])\n",
      "print km.labels_"
     ],
     "language": "python",
     "metadata": {},
     "outputs": [
      {
       "output_type": "stream",
       "stream": "stdout",
       "text": [
        "[1 1 1 1 1 1 1 1 2 2 2 2 2 2 2 1 0 0 0 0 0 0 0 0 3 3 3 3 3 3 3 3]\n"
       ]
      }
     ],
     "prompt_number": 123
    },
    {
     "cell_type": "code",
     "collapsed": false,
     "input": [
      "def Kmeans_cluster(k,v):\n",
      "    km=cluster.KMeans(n_clusters=k)\n",
      "    km.fit(v[:,:k-1])\n",
      "    return km.labels_"
     ],
     "language": "python",
     "metadata": {},
     "outputs": [],
     "prompt_number": 17
    },
    {
     "cell_type": "code",
     "collapsed": false,
     "input": [
      "def GMM_cluster(v,kmax):\n",
      "    kbest=0\n",
      "    best_bic=9999999\n",
      "    best_predict=0\n",
      "    for i in range(1,kmax):\n",
      "        gmm=mixture.GMM(n_components=i+1)\n",
      "        gmm.fit(v)\n",
      "        bic=gmm.bic(v)\n",
      "        if bic<best_bic:\n",
      "            kbest=i+1\n",
      "            best_bic=bic\n",
      "            best_predict=gmm.predict(v)\n",
      "    return best_predict"
     ],
     "language": "python",
     "metadata": {},
     "outputs": [],
     "prompt_number": 120
    },
    {
     "cell_type": "code",
     "collapsed": false,
     "input": [
      "from sklearn import *\n",
      "def adjacency_KClusters(Dist,k): # To be fixed !!!\n",
      "    S=spc.similarity(Dist)\n",
      "    n=np.shape(S)[0]\n",
      "    L=spc.laplacian(S)\n",
      "    w,v=np.linalg.eig(L)\n",
      "    ind_sorted_eigvals=np.argsort(w)\n",
      "    v=v[:,ind_sorted_eigvals]\n",
      "    w=w[ind_sorted_eigvals]\n",
      "    #v=v[:,1:k]\n",
      "    clusters=Kmeans_cluster(k,v)\n",
      "    A=np.zeros((n,n))\n",
      "    for i in range(n):\n",
      "        for j in range(n):\n",
      "            if clusters[i]==clusters[j]:\n",
      "                A[i,j]=1\n",
      "    return A,v"
     ],
     "language": "python",
     "metadata": {},
     "outputs": [],
     "prompt_number": 124
    },
    {
     "cell_type": "code",
     "collapsed": false,
     "input": [
      "def centroid_ob_gene(results,n_ass,n_objects,n_object_per_assessment,Delta_est,S_est,n_cluster):\n",
      "    \n",
      "    S=spc.similarity(Delta_est)\n",
      "    n=np.shape(S)[0]\n",
      "    L=spc.laplacian(S)\n",
      "    w,v=np.linalg.eig(L)\n",
      "    ind_sorted_eigvals=np.argsort(w)\n",
      "    v=v[:,ind_sorted_eigvals]\n",
      "    w=w[ind_sorted_eigvals]\n",
      "    v=v[:,1:n_cluster]\n",
      "    \n",
      "    print v\n",
      "    \n",
      "    km=cluster.KMeans(n_clusters=n_cluster)\n",
      "    km.fit(v[:,:n_cluster-1])\n",
      "    centers=km.cluster_centers_\n",
      "    \n",
      "    # Enter the closest points to the centroid\n",
      "    choice=[]\n",
      "    for center in centers:\n",
      "        dmin=100\n",
      "        bestind=-1\n",
      "        for i in range(np.shape(v)[0]):\n",
      "            d=np.sum(np.square(center-v[i,:]))\n",
      "            #print center,v[i,:],d\n",
      "            if d<dmin:\n",
      "                bestind=i\n",
      "                dmin=d\n",
      "        choice.append(bestind)\n",
      "        \n",
      "    # Complete choice until full\n",
      "    while len(choice)<n_object_per_assessment:\n",
      "        r=np.random.randint(n_objects)\n",
      "        if r not in choice:\n",
      "            choice.append(r)\n",
      "    \n",
      "    return choice       "
     ],
     "language": "python",
     "metadata": {},
     "outputs": [],
     "prompt_number": 328
    },
    {
     "cell_type": "code",
     "collapsed": false,
     "input": [
      "n_cluster=3\n",
      "n_ass=6\n",
      "choice=centroid_ob_gene(results,n_ass,n_objects,n_object_per_assessment,Delta_est,S_est,n_cluster)"
     ],
     "language": "python",
     "metadata": {},
     "outputs": [
      {
       "output_type": "stream",
       "stream": "stdout",
       "text": [
        "[[ 0.         -0.        ]\n",
        " [ 0.         -0.        ]\n",
        " [ 0.         -0.        ]\n",
        " [ 0.         -0.        ]\n",
        " [ 0.         -0.        ]\n",
        " [ 0.         -0.        ]\n",
        " [ 0.28867513  0.28409447]\n",
        " [ 0.28867513  0.30070733]\n",
        " [ 0.28867513  0.2832736 ]\n",
        " [ 0.28867513  0.29632323]\n",
        " [ 0.28867513  0.29245385]\n",
        " [ 0.28867513  0.21186116]\n",
        " [ 0.28867513 -0.34874605]\n",
        " [ 0.28867513 -0.3438474 ]\n",
        " [ 0.28867513 -0.29837516]\n",
        " [ 0.28867513 -0.33103945]\n",
        " [ 0.28867513 -0.29950264]\n",
        " [ 0.28867513 -0.04720295]]\n"
       ]
      }
     ],
     "prompt_number": 349
    },
    {
     "cell_type": "code",
     "collapsed": false,
     "input": [
      "choice"
     ],
     "language": "python",
     "metadata": {},
     "outputs": [
      {
       "metadata": {},
       "output_type": "pyout",
       "prompt_number": 350,
       "text": [
        "[0, 14, 8, 12, 6, 4]"
       ]
      }
     ],
     "prompt_number": 350
    },
    {
     "cell_type": "code",
     "collapsed": false,
     "input": [],
     "language": "python",
     "metadata": {},
     "outputs": []
    },
    {
     "cell_type": "code",
     "collapsed": false,
     "input": [
      "def generate_covariance(dim,var):\n",
      "    Cov=(np.random.rand(dim,dim)-0.5)*0.2\n",
      "    for i in range(dim):\n",
      "        Cov[i,i]=var[i]\n",
      "    return Cov"
     ],
     "language": "python",
     "metadata": {},
     "outputs": [],
     "prompt_number": 36
    },
    {
     "cell_type": "code",
     "collapsed": false,
     "input": [
      "def generate_samples(n,mean,cov):\n",
      "    return np.random.multivariate_normal(mean,cov,n)\n"
     ],
     "language": "python",
     "metadata": {},
     "outputs": [],
     "prompt_number": 37
    },
    {
     "cell_type": "code",
     "collapsed": false,
     "input": [
      "class Object:\n",
      "    def __init__(self,n_feat,index):\n",
      "        self.ind=index\n",
      "        self.features=np.zeros((1,n_feat))\n",
      "    def get_n_feat(self):\n",
      "        return np.shape(self.features)[0]\n",
      "    def set_features(self,samp):\n",
      "        self.features=samp\n",
      "    def print_features(self):\n",
      "        fig, ax = plt.subplots(figsize=(8, 3.5))\n",
      "        width=0.2\n",
      "        ax.bar(np.array(range((len(self.features))))-width/2.0,self.features,width)\n",
      "        ax.set_xticks(ticks= range((len(self.features))))\n",
      "        ax.set_xlim(-0.6,len(self.features)-0.4)\n",
      "        ax.set_ylim(0,10)\n",
      "        fig.show()\n",
      "    def select_features(list_indices):\n",
      "        return self.features[0,indices]\n"
     ],
     "language": "python",
     "metadata": {},
     "outputs": [],
     "prompt_number": 41
    },
    {
     "cell_type": "code",
     "collapsed": false,
     "input": [
      "class SetOfObjects:\n",
      "    def __init__(self,n_clusters,n_objects,dim):\n",
      "        self.dim=dim\n",
      "        self.nob=n_objects\n",
      "        self.nclust=n_clusters\n",
      "        self.set_of_objects=list()\n",
      "        self.set_of_clusters=list()\n",
      "        self.means=np.zeros((n_clusters,dim))\n",
      "        self.variances=np.zeros((n_clusters,dim))\n",
      "\n",
      "    def generate_clusters(self,tau):\n",
      "\n",
      "        mag=100\n",
      "        for d in range(self.dim):\n",
      "\n",
      "            # generate means along the 1-dimensional axis\n",
      "            M=mag*np.random.randn(self.nclust)+mag\n",
      "            index_array=np.argsort(np.argsort(M))\n",
      "            m=np.sort(M)\n",
      "            self.means[:,d]=M\n",
      "\n",
      "            # Assign sigma\n",
      "            s1=999999\n",
      "            s2=(m[1]-m[0])/float(tau)\n",
      "            for c in range(self.nclust-2):\n",
      "                sigma=np.minimum(s1,s2)\n",
      "                self.variances[c,d]=sigma\n",
      "                s1=(m[c+1]-m[c])/float(tau)\n",
      "                s2=(m[c+2]-m[c+1])/float(tau)\n",
      "\n",
      "            sigma=np.minimum(s1,s2)\n",
      "            self.variances[self.nclust-2,d]=sigma\n",
      "\n",
      "            s1=(m[self.nclust-1]-m[self.nclust-2])/float(tau)\n",
      "            s2=999999\n",
      "            sigma=np.minimum(s1,s2)\n",
      "            self.variances[self.nclust-1,d]=sigma\n",
      "\n",
      "        self.variances=self.variances[index_array,:]\n",
      "\n",
      "        for c in range(self.nclust):\n",
      "            ob_per_clust=self.nob/self.nclust\n",
      "            samp=generate_samples(ob_per_clust,self.means[c,:],generate_covariance(self.dim,self.variances[c,:]))\n",
      "            for i in range(ob_per_clust):\n",
      "                o=Object(self.dim,i)\n",
      "                o.set_features(samp[i,:])\n",
      "                self.set_of_objects.append(o)\n",
      "            \n"
     ],
     "language": "python",
     "metadata": {},
     "outputs": [],
     "prompt_number": 135
    },
    {
     "cell_type": "code",
     "collapsed": false,
     "input": [
      "S=SetOfObjects(3,30,4)"
     ],
     "language": "python",
     "metadata": {},
     "outputs": [],
     "prompt_number": 136
    },
    {
     "cell_type": "code",
     "collapsed": false,
     "input": [
      "S.generate_clusters(2)"
     ],
     "language": "python",
     "metadata": {},
     "outputs": [],
     "prompt_number": 137
    },
    {
     "cell_type": "code",
     "collapsed": false,
     "input": [
      "S.variances"
     ],
     "language": "python",
     "metadata": {},
     "outputs": [
      {
       "metadata": {},
       "output_type": "pyout",
       "prompt_number": 45,
       "text": [
        "array([[ 68.2477891 ,  40.24109851,   1.60638684,  74.39742911],\n",
        "       [ 54.05483466,  40.24109851,   1.60638684,  20.68770614],\n",
        "       [ 54.05483466,  52.47437902,   1.70411664,  20.68770614]])"
       ]
      }
     ],
     "prompt_number": 45
    },
    {
     "cell_type": "code",
     "collapsed": false,
     "input": [
      "S.means"
     ],
     "language": "python",
     "metadata": {},
     "outputs": [
      {
       "metadata": {},
       "output_type": "pyout",
       "prompt_number": 46,
       "text": [
        "array([[ -68.93719493,  -47.1901921 ,   81.66977135,   52.59019048],\n",
        "       [  67.55838328,   33.29200492,   84.88254502,  201.38504871],\n",
        "       [ 175.66805259,  138.24076296,   88.2907783 ,  242.76046098]])"
       ]
      }
     ],
     "prompt_number": 46
    },
    {
     "cell_type": "code",
     "collapsed": false,
     "input": [
      "def generate_objects(n_objects,n_clusters,dimension,tau):\n",
      "    set_of_objects=list()\n",
      "    # Generate clusters\n",
      "    S=SetOfObjects(n_clusters,n_objects,dimension)\n",
      "    S.generate_clusters(tau)\n",
      "    set_of_objects=S.set_of_objects\n",
      "\n",
      "\t# Compute the real Kmeans clusterization\n",
      "    real_clusters=rc.kmeans_clusters(set_of_objects,n_clusters)\n",
      "    fig=vis.visualization_2D(set_of_objects,real_clusters,0,1)\n",
      "    return [set_of_objects,real_clusters,fig]"
     ],
     "language": "python",
     "metadata": {},
     "outputs": [],
     "prompt_number": 68
    },
    {
     "cell_type": "code",
     "collapsed": false,
     "input": [
      "[set_of_objects,real_clusters,fig]=generate_objects(40,4,4,1)"
     ],
     "language": "python",
     "metadata": {},
     "outputs": [
      {
       "metadata": {},
       "output_type": "display_data",
       "png": "[encoded data removed]",
       "text": [
        "<matplotlib.figure.Figure at 0x7f1d908bd6d0>"
       ]
      }
     ],
     "prompt_number": 158
    },
    {
     "cell_type": "code",
     "collapsed": false,
     "input": [
      "a=[2,5,3,4]\n",
      "i=np.argsort(a)\n",
      "b=np.sort(a)"
     ],
     "language": "python",
     "metadata": {},
     "outputs": [],
     "prompt_number": 124
    },
    {
     "cell_type": "code",
     "collapsed": false,
     "input": [
      "[a[x] for x in i]"
     ],
     "language": "python",
     "metadata": {},
     "outputs": [
      {
       "metadata": {},
       "output_type": "pyout",
       "prompt_number": 127,
       "text": [
        "[2, 3, 4, 5]"
       ]
      }
     ],
     "prompt_number": 127
    },
    {
     "cell_type": "code",
     "collapsed": false,
     "input": [
      "j=np.argsort(i)"
     ],
     "language": "python",
     "metadata": {},
     "outputs": [],
     "prompt_number": 128
    },
    {
     "cell_type": "code",
     "collapsed": false,
     "input": [
      "j"
     ],
     "language": "python",
     "metadata": {},
     "outputs": [
      {
       "metadata": {},
       "output_type": "pyout",
       "prompt_number": 129,
       "text": [
        "array([0, 3, 1, 2])"
       ]
      }
     ],
     "prompt_number": 129
    },
    {
     "cell_type": "code",
     "collapsed": false,
     "input": [
      "i"
     ],
     "language": "python",
     "metadata": {},
     "outputs": [
      {
       "metadata": {},
       "output_type": "pyout",
       "prompt_number": 130,
       "text": [
        "array([0, 2, 3, 1])"
       ]
      }
     ],
     "prompt_number": 130
    },
    {
     "cell_type": "code",
     "collapsed": false,
     "input": [
      "[b[x] for x in j]"
     ],
     "language": "python",
     "metadata": {},
     "outputs": [
      {
       "metadata": {},
       "output_type": "pyout",
       "prompt_number": 131,
       "text": [
        "[2, 5, 3, 4]"
       ]
      }
     ],
     "prompt_number": 131
    },
    {
     "cell_type": "code",
     "collapsed": false,
     "input": [
      "1%5"
     ],
     "language": "python",
     "metadata": {},
     "outputs": [
      {
       "metadata": {},
       "output_type": "pyout",
       "prompt_number": 159,
       "text": [
        "1"
       ]
      }
     ],
     "prompt_number": 159
    },
    {
     "cell_type": "code",
     "collapsed": false,
     "input": [
      "5%5"
     ],
     "language": "python",
     "metadata": {},
     "outputs": [
      {
       "metadata": {},
       "output_type": "pyout",
       "prompt_number": 160,
       "text": [
        "0"
       ]
      }
     ],
     "prompt_number": 160
    },
    {
     "cell_type": "code",
     "collapsed": false,
     "input": [],
     "language": "python",
     "metadata": {},
     "outputs": []
    }
   ],
   "metadata": {}
  }
 ]
}