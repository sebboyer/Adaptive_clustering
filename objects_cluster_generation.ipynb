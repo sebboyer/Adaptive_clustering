{
 "metadata": {
  "name": "",
  "signature": "sha256:27e368eb7a75582b6b4a546cf0b61052935e3328f989f5c14c89d4baadb70e34"
 },
 "nbformat": 3,
 "nbformat_minor": 0,
 "worksheets": [
  {
   "cells": [
    {
     "cell_type": "code",
     "collapsed": false,
     "input": [
      "import numpy as np\n",
      "import matplotlib.pyplot as plt\n",
      "import matplotlib.colors as col\n",
      "%matplotlib inline"
     ],
     "language": "python",
     "metadata": {},
     "outputs": [],
     "prompt_number": 1
    },
    {
     "cell_type": "code",
     "collapsed": false,
     "input": [
      "def generate_mean(dim,mag):\n",
      "    return mag*np.random.randn(dim)+mag\n",
      "def generate_covariance(dim):\n",
      "    return np.eye(dim)+(np.random.rand(dim,dim)-0.5)*0.2\n",
      "def generate_samples(n,mean,cov):\n",
      "    return np.random.multivariate_normal(mean,cov,n)"
     ],
     "language": "python",
     "metadata": {},
     "outputs": [],
     "prompt_number": 2
    },
    {
     "cell_type": "code",
     "collapsed": false,
     "input": [
      "def generate_sample_list(mag,dim,n,K):\n",
      "    L=list()\n",
      "    for i in range(K):\n",
      "        mean=generate_mean(dim,mag)\n",
      "        cov=generate_covariance(dim)\n",
      "        samp=generate_samples(n,mean,cov)\n",
      "        L.append(samp)\n",
      "    return L"
     ],
     "language": "python",
     "metadata": {},
     "outputs": [],
     "prompt_number": 3
    },
    {
     "cell_type": "code",
     "collapsed": false,
     "input": [
      "def display_2D(samp_list,dim1,dim2):\n",
      "    colors=\"rgbcmykw\"\n",
      "    fig, ax = plt.subplots(figsize=(8, 3.5))\n",
      "    for i in range(len(samp_list)):\n",
      "        #c=to_rgb(colors[i])\n",
      "        samp=samp_list[i]\n",
      "        x=samp[:,dim1]\n",
      "        y=samp[:,dim2]\n",
      "        ax.scatter(x, y, alpha=0.5,color=(i/float(len(samp_list)),0,1))\n",
      "    fig.show()"
     ],
     "language": "python",
     "metadata": {},
     "outputs": [],
     "prompt_number": 4
    },
    {
     "cell_type": "code",
     "collapsed": false,
     "input": [
      "# mag=10\n",
      "# dim=5\n",
      "# n=30\n",
      "# K=2\n",
      "# L=generate_sample_list(mag,dim,n,K)\n",
      "# proj1=0\n",
      "# proj2=1\n",
      "# display_2D(L,proj1,proj2)"
     ],
     "language": "python",
     "metadata": {},
     "outputs": [],
     "prompt_number": 5
    },
    {
     "cell_type": "code",
     "collapsed": false,
     "input": [
      "class Object:\n",
      "    def __init__(self,n_feat,index):\n",
      "        self.ind=index\n",
      "        self.features=np.zeros((1,n_feat))\n",
      "    def get_n_feat(self):\n",
      "        return np.shape(self.features)[0]\n",
      "    def set_features(self,samp):\n",
      "        self.features=samp\n",
      "    def print_features(self):\n",
      "        fig, ax = plt.subplots(figsize=(8, 3.5))\n",
      "        width=0.2\n",
      "        ax.bar(np.array(range((len(self.features))))-width/2.0,self.features,width)\n",
      "        ax.set_xticks(ticks= range((len(self.features))))\n",
      "        ax.set_xlim(-0.6,len(self.features)-0.4)\n",
      "        ax.set_ylim(0,10)\n",
      "        fig.show()\n",
      "    def select_features(list_indices):\n",
      "        return self.features[0,indices]"
     ],
     "language": "python",
     "metadata": {},
     "outputs": [],
     "prompt_number": 16
    },
    {
     "cell_type": "code",
     "collapsed": false,
     "input": [
      "class Cluster:\n",
      "    def __init__(self,n_objects,mag,dim):\n",
      "        self.N=n_objects\n",
      "        self.objects=list()\n",
      "        self.dim=dim\n",
      "        self.mean=generate_mean(dim,mag)\n",
      "        self.cov=generate_covariance(dim)\n",
      "    def add_object(self,ob):\n",
      "        self.objects.append(ob)\n",
      "    def add_objects(self,list_objects):\n",
      "        self.objects+=list_objects\n",
      "    def select_objects(self,indices):\n",
      "        return self.objects[indices]\n",
      "    def populate_random_multivariate(self):\n",
      "        samp=generate_samples(self.N,self.mean,self.cov)\n",
      "        for i in range(self.N):\n",
      "            o=Object(self.dim,i)\n",
      "            o.set_features(samp[i,:])\n",
      "            self.add_object(o)"
     ],
     "language": "python",
     "metadata": {},
     "outputs": [],
     "prompt_number": 17
    },
    {
     "cell_type": "code",
     "collapsed": false,
     "input": [
      "def compute_KL(cluster1,cluster2):\n",
      "    sigma2_inv=np.linalg.inv(cluster2.cov)\n",
      "    det1=np.linalg.det(cluster1.cov)\n",
      "    det2=np.linalg.det(cluster2.cov)\n",
      "    tr_s2inv_s1=np.trace(np.dot(sigma2_inv,cluster1.cov))\n",
      "    a=np.dot(np.dot(cluster2.mean-cluster1.mean,sigma2_inv),(cluster2.mean-cluster1.mean).T)\n",
      "    res=0.5*(np.log(det2/float(det1))-cluster1.dim+tr_s2inv_s1+a)\n",
      "    if abs(res)<10**(-15):\n",
      "        res=0\n",
      "    return res"
     ],
     "language": "python",
     "metadata": {},
     "outputs": [],
     "prompt_number": 18
    },
    {
     "cell_type": "code",
     "collapsed": false,
     "input": [
      "C=Cluster(30,1,3)\n",
      "C.populate_random_multivariate()\n",
      "C.objects[1].print_features()\n",
      "\n",
      "# D=Cluster(30,10,3)\n",
      "# D.populate_random_multivariate()\n",
      "# D.objects[1].print_features()\n",
      "\n",
      "# kl=compute_KL(C,D)\n",
      "# print kl"
     ],
     "language": "python",
     "metadata": {},
     "outputs": [
      {
       "metadata": {},
       "output_type": "display_data",
       "png": "[encoded data removed]",
       "text": [
        "<matplotlib.figure.Figure at 0x7f9a23ee1390>"
       ]
      }
     ],
     "prompt_number": 19
    },
    {
     "cell_type": "code",
     "collapsed": false,
     "input": [
      "C.objects[1].get_n_feat()"
     ],
     "language": "python",
     "metadata": {},
     "outputs": [
      {
       "metadata": {},
       "output_type": "pyout",
       "prompt_number": 20,
       "text": [
        "3"
       ]
      }
     ],
     "prompt_number": 20
    },
    {
     "cell_type": "code",
     "collapsed": false,
     "input": [],
     "language": "python",
     "metadata": {},
     "outputs": []
    }
   ],
   "metadata": {}
  }
 ]
}