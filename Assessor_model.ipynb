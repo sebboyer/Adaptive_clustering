{
 "metadata": {
  "name": "",
  "signature": "sha256:5bbe9ed0f6228545b3f5b3d775fcd9523037b7b8da6563fbc7690965ca6fce22"
 },
 "nbformat": 3,
 "nbformat_minor": 0,
 "worksheets": [
  {
   "cells": [
    {
     "cell_type": "code",
     "collapsed": false,
     "input": [
      "import numpy as np\n",
      "from objects_cluster_generation import *\n",
      "from sklearn.cluster import KMeans"
     ],
     "language": "python",
     "metadata": {},
     "outputs": [],
     "prompt_number": 97
    },
    {
     "cell_type": "code",
     "collapsed": false,
     "input": [
      "class Assessor:\n",
      "    def __init__(self,volatility,n_feat_param):\n",
      "        self.volatility=volatility\n",
      "        self.n_feat_param=n_feat_param\n",
      "    \n",
      "    # Number of feature the assessor is aware of\n",
      "    def number_feature_awareness(self,n_feat_total):\n",
      "        return int(np.random.beta(2,self.n_feat_param)*n_feat_total)\n",
      "    \n",
      "    # The indices of the feature the assessor is aware of\n",
      "    def indices_feature_awareness(self,n_feat_total):\n",
      "        n_feat_awareness=self.number_feature_awareness(n_feat_total)\n",
      "        a=np.random.dirichlet([1]*n_feat_total)\n",
      "        return a.argsort()[-n_feat_awareness:]"
     ],
     "language": "python",
     "metadata": {},
     "outputs": [],
     "prompt_number": 3
    },
    {
     "cell_type": "code",
     "collapsed": false,
     "input": [
      "class Assessment:\n",
      "    def __init__(self,assessor,set_of_objects):\n",
      "        self.assessor=assessor\n",
      "        self.set_of_objects=set_of_objects\n",
      "        self.N=len(set_of_objects)\n",
      "        self.n_feat=set_of_objects[0].get_n_feat()\n",
      "        self.features=0\n",
      "        \n",
      "    # Extract only the feature the assessor is aware of from the set of objects\n",
      "    def set_features(self):\n",
      "        features=list()\n",
      "        features_index=self.assessor.indices_feature_awareness(self.n_feat)\n",
      "        for o in self.set_of_objects:\n",
      "            noise=np.random.randn(len(features_index))*self.assessor.volatility\n",
      "            features.append(o.features[features_index]+noise)\n",
      "        features=np.array(features)\n",
      "        self.features=features\n",
      "        \n",
      "    # Vote of the assessor based on the features he/she perceives\n",
      "    def do_clusterization(self,n_cluster):\n",
      "        km=KMeans(n_cluster)\n",
      "        km.fit(self.features)\n",
      "        return km.labels_"
     ],
     "language": "python",
     "metadata": {},
     "outputs": [],
     "prompt_number": 309
    },
    {
     "cell_type": "code",
     "collapsed": false,
     "input": [
      "class Experiment:\n",
      "    \n",
      "    # set_of_assessors = list of Assessor \n",
      "    # set_of_objects= list of objects \n",
      "    # assessment_list= list of list of the form [ind_assessor,[ind1,ind2,...,indk]]\n",
      "    def __init__(self,set_of_assessors,set_of_objects,assessment_list):\n",
      "        self.set_of_assessors=set_of_assessors\n",
      "        self.set_of_objects=set_of_objects\n",
      "        self.assessment_list=assessment_list\n",
      "        self.results={}\n",
      "        for a in range(len(set_of_assessors)):\n",
      "            self.results[a]={}\n",
      "    \n",
      "    # For each line in assessment_list procede to the clustering and print result\n",
      "    def procede_assessments(self):\n",
      "        \n",
      "        # For each line in assessment_list\n",
      "        for i in range(len(self.assessment_list)):\n",
      "            # Setting of the assessment\n",
      "            assessor_ind=self.assessment_list[i][0]\n",
      "            assessor=self.set_of_assessors[assessor_ind]\n",
      "            set_of_objects=[self.set_of_objects[j] for j in self.assessment_list[i][1]]\n",
      "            assessment=Assessment(assessor,set_of_objects)\n",
      "            assessment.set_features()\n",
      "            \n",
      "            # Assessment\n",
      "            result=assessment.do_clusterization(2)\n",
      "            \n",
      "            # Record result of the assessment in dictionnary\n",
      "            for j in range(len(set_of_objects)):\n",
      "                for k in range(j):\n",
      "                    ind1=self.assessment_list[i][1][k]\n",
      "                    ind2=self.assessment_list[i][1][j]\n",
      "                    self.results[assessor_ind][ind1,ind2]=(result[k]==result[j])\n",
      "            print result\n",
      "            \n",
      "    def get_results(self):\n",
      "        return self.results"
     ],
     "language": "python",
     "metadata": {},
     "outputs": [],
     "prompt_number": 1
    },
    {
     "cell_type": "code",
     "collapsed": false,
     "input": [
      "# C=Cluster(30,1,3)\n",
      "# C.populate_random_multivariate()\n",
      "# D=Cluster(30,10,3)\n",
      "# D.populate_random_multivariate()\n",
      "# a=Assessor(5,5)\n",
      "# b=Assessor(10,5)\n",
      "\n",
      "# set_of_assessors=[a,b]\n",
      "# set_of_objects=[C.objects[0],C.objects[1],D.objects[0],D.objects[1]]\n",
      "# assessment_list=[[0,[0,1,2]],[1,[3,1,0]],[0,[3,2,1]]]\n",
      "# exp=Experiment(set_of_assessors,set_of_objects,assessment_list)\n",
      "# exp.procede_assessments()\n",
      "# exp.get_results()"
     ],
     "language": "python",
     "metadata": {},
     "outputs": [],
     "prompt_number": 342
    }
   ],
   "metadata": {}
  }
 ]
}