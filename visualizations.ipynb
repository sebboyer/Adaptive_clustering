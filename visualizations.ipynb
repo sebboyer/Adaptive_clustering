{
 "metadata": {
  "name": ""
 },
 "nbformat": 3,
 "nbformat_minor": 0,
 "worksheets": [
  {
   "cells": [
    {
     "cell_type": "code",
     "collapsed": false,
     "input": [
      "import numpy as np\n",
      "import matplotlib.pyplot as plt\n",
      "import matplotlib.colors as col\n",
      "%matplotlib inline\n",
      "from objects_cluster_generation import *\n",
      "from copy import deepcopy"
     ],
     "language": "python",
     "metadata": {},
     "outputs": [],
     "prompt_number": 24
    },
    {
     "cell_type": "code",
     "collapsed": false,
     "input": [
      "def clusters_from_adjacency(A,n_clusters):\n",
      "    n=np.shape(A)[0]\n",
      "    B=deepcopy(A)\n",
      "    clusters=np.zeros((1,n))\n",
      "    for i in range(n):\n",
      "        if B[0,i]!=-1:\n",
      "            for j in range(n):\n",
      "                if B[i,j]==1:\n",
      "                    B[0,j]=-1\n",
      "                    clusters[0,j]=i\n",
      "    a=list(set(clusters[0]))\n",
      "    clusters=[a.index(clusters[0,i]) for i in range(n)]\n",
      "    return clusters"
     ],
     "language": "python",
     "metadata": {},
     "outputs": [],
     "prompt_number": 92
    },
    {
     "cell_type": "code",
     "collapsed": false,
     "input": [
      "def visualization_2D(set_of_objects,clusters_indexes,dim1,dim2):\n",
      "    n=len(set_of_objects)\n",
      "    x=[o.features[dim1] for o in set_of_objects]\n",
      "    y=[o.features[dim2] for o in set_of_objects]\n",
      "    colours_available=['blue','red','green']\n",
      "    colours=[colours_available[clusters_indexes[i]] for i in range(n)]\n",
      "    fig, ax = plt.subplots(figsize=(8,4))\n",
      "    l = ax.scatter(x, y, c=colours)\n",
      "    fig.show()"
     ],
     "language": "python",
     "metadata": {},
     "outputs": [],
     "prompt_number": 93
    },
    {
     "cell_type": "code",
     "collapsed": false,
     "input": [
      "def real_adjacency(n_clusters,n_objects):\n",
      "    A=np.zeros((n_objects,n_objects))\n",
      "    n_objects_per_cluster=n_objects/n_clusters\n",
      "    for i in range(n_clusters):\n",
      "        A[i*n_objects_per_cluster:(i+1)*n_objects_per_cluster,i*n_objects_per_cluster:(i+1)*n_objects_per_cluster]=np.ones((n_objects_per_cluster,n_objects_per_cluster))\n",
      "    return A"
     ],
     "language": "python",
     "metadata": {},
     "outputs": [],
     "prompt_number": 94
    },
    {
     "cell_type": "code",
     "collapsed": false,
     "input": [
      "# ############### Creating the objects within different clusters\n",
      "\n",
      "# # Setting parameters of the objects\n",
      "# n_objects=12\n",
      "# n_clusters=2\n",
      "# dim=2\n",
      "\n",
      "# # Creating n_object objects in n_clusters clusters with dim features\n",
      "# set_of_objects=list()\n",
      "# for i in range(n_clusters):\n",
      "#     C=Cluster(n_objects/n_clusters,3*i,dim)\n",
      "#     C.populate_random_multivariate()\n",
      "#     set_of_objects+=[C.objects[i] for i in range(n_objects/n_clusters)]\n",
      "\n",
      "# A=real_adjacency(n_clusters,n_objects)\n",
      "# clust=clusters_from_adjacency(A,n_clusters)\n",
      "# visualization_2D(set_of_objects,clust,0,1)"
     ],
     "language": "python",
     "metadata": {},
     "outputs": [],
     "prompt_number": 121
    }
   ],
   "metadata": {}
  }
 ]
}