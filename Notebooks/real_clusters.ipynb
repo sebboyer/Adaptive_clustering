{
 "metadata": {
  "name": ""
 },
 "nbformat": 3,
 "nbformat_minor": 0,
 "worksheets": [
  {
   "cells": [
    {
     "cell_type": "code",
     "collapsed": false,
     "input": [
      "import numpy as np\n",
      "from sklearn import cluster"
     ],
     "language": "python",
     "metadata": {},
     "outputs": [],
     "prompt_number": 7
    },
    {
     "cell_type": "code",
     "collapsed": false,
     "input": [
      "def kmeans_clusters(set_of_objects,k):\n",
      "    N=len(set_of_objects)\n",
      "    f=set_of_objects[0].get_n_feat()\n",
      "    X=np.zeros((N,f))\n",
      "    for i in range(len(set_of_objects)):\n",
      "        X[i]=set_of_objects[i].features\n",
      "        \n",
      "    km=cluster.KMeans(n_clusters=k)\n",
      "    km.fit(X)\n",
      "    return km.predict(X)"
     ],
     "language": "python",
     "metadata": {},
     "outputs": [],
     "prompt_number": 21
    }
   ],
   "metadata": {}
  }
 ]
}