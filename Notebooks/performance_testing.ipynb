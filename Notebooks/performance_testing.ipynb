{
 "metadata": {
  "name": ""
 },
 "nbformat": 3,
 "nbformat_minor": 0,
 "worksheets": [
  {
   "cells": [
    {
     "cell_type": "code",
     "collapsed": false,
     "input": [
      "import numpy as np"
     ],
     "language": "python",
     "metadata": {},
     "outputs": [],
     "prompt_number": 4
    },
    {
     "cell_type": "code",
     "collapsed": false,
     "input": [
      "def score(real_adj,est_adj):\n",
      "    n=np.shape(real_adj)[0]\n",
      "    d=real_adj-est_adj\n",
      "    d=np.abs(d)\n",
      "    res=np.sum(d)\n",
      "    res=res/(n*(n-1))\n",
      "    return res"
     ],
     "language": "python",
     "metadata": {},
     "outputs": [],
     "prompt_number": 20
    }
   ],
   "metadata": {}
  }
 ]
}