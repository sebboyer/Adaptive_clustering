{
 "metadata": {
  "name": ""
 },
 "nbformat": 3,
 "nbformat_minor": 0,
 "worksheets": [
  {
   "cells": [
    {
     "cell_type": "code",
     "collapsed": false,
     "input": [
      "import numpy as np\n",
      "import Assessor_model as ass\n",
      "import real_clusters as rc\n",
      "import votes_EM_model as vem\n",
      "import visualizations as vis\n",
      "import matplotlib.pyplot as plt\n",
      "import spectral_graph_clustering as spg\n",
      "import EM_algorithm as em\n",
      "import performance_testing as pt\n",
      "get_ipython().magic(u'matplotlib inline')"
     ],
     "language": "python",
     "metadata": {},
     "outputs": [],
     "prompt_number": 56
    },
    {
     "cell_type": "code",
     "collapsed": false,
     "input": [
      "############### Creating the objects within different clusters\n",
      "\n",
      "# Setting parameters of the objects\n",
      "n_objects=28\n",
      "n_clusters=2\n",
      "dim=2\n",
      "\n",
      "# Creating n_object objects in n_clusters clusters with dim features\n",
      "set_of_objects=list()\n",
      "for i in range(n_clusters):\n",
      "    C=ass.Cluster(n_objects/n_clusters,3*i,dim)\n",
      "    C.populate_random_multivariate()\n",
      "\n",
      "    \n",
      "    set_of_objects+=[C.objects[i] for i in range(n_objects/n_clusters)]\n",
      "    \n",
      "real_clusters=rc.kmeans_clusters(set_of_objects,n_clusters)\n",
      "vis.visualization_2D(set_of_objects,real_clusters,0,1)"
     ],
     "language": "python",
     "metadata": {},
     "outputs": [
      {
       "metadata": {},
       "output_type": "display_data",
       "png": "[encoded data removed]",
       "text": [
        "<matplotlib.figure.Figure at 0x7f80ba5e4910>"
       ]
      }
     ],
     "prompt_number": 70
    },
    {
     "cell_type": "code",
     "collapsed": false,
     "input": [
      "# Setting parameters of the Assessments\n",
      "n_assessors=6\n",
      "n_assessments_per_assessor=3\n",
      "n_object_per_assessment=6\n",
      "\n",
      "# Creating Assessors\n",
      "set_of_assessors=[ass.Assessor((i%10)/float(2),5) for i in range(n_assessors)]\n",
      "\n",
      "# Creating adaptive method\n",
      "def ass_gene(results,n_ass,n_objects):\n",
      "    return np.random.randint(0,n_ass)\n",
      "def set_of_object_gene(results,n_ass,n_objects,n_object_per_assessment):\n",
      "    res=list()\n",
      "    for i in range(n_object_per_assessment):\n",
      "        res.append(np.random.randint(0,n_objects))\n",
      "    return res\n",
      "adaptive_method=ass.Adaptive_method(ass_gene,set_of_object_gene)\n",
      "\n",
      "# Creating experiment\n",
      "exp=ass.Experiment(set_of_assessors,set_of_objects,adaptive_method)\n",
      "\n",
      "# Procede to first adaptive assessment\n",
      "for i in range(50):\n",
      "    exp.procede_adaptive_assessment(n_clusters,n_object_per_assessment)\n",
      "Votes=exp.get_results()\n",
      "ass.symmetrized_Votes(Votes)"
     ],
     "language": "python",
     "metadata": {},
     "outputs": [],
     "prompt_number": 71
    },
    {
     "cell_type": "code",
     "collapsed": false,
     "input": [
      "def naive_distance(Votes,N):\n",
      "    occ=np.zeros((N,N))\n",
      "    D=np.zeros((N,N))\n",
      "    for assessor in Votes:\n",
      "        for pair in Votes[assessor]:\n",
      "            occ[pair[0],pair[1]]+=1\n",
      "            if Votes[assessor][pair]==True:\n",
      "                D[pair[0],pair[1]]+=1\n",
      "    for i in range(n_objects):\n",
      "        for j in range(n_objects):\n",
      "            if occ[i,j]!=0:\n",
      "                D[i,j]=D[i,j]/float(occ[i,j])\n",
      "    return D"
     ],
     "language": "python",
     "metadata": {},
     "outputs": [],
     "prompt_number": 48
    },
    {
     "cell_type": "code",
     "collapsed": false,
     "input": [
      "Delta_naive=naive_distance(Votes,n_objects)"
     ],
     "language": "python",
     "metadata": {},
     "outputs": [],
     "prompt_number": 72
    },
    {
     "cell_type": "code",
     "collapsed": false,
     "input": [
      "plt.pcolor(Delta_naive)\n",
      "plt.show()"
     ],
     "language": "python",
     "metadata": {},
     "outputs": [
      {
       "metadata": {},
       "output_type": "display_data",
       "png": "[encoded data removed]",
       "text": [
        "<matplotlib.figure.Figure at 0x7f80ba586190>"
       ]
      }
     ],
     "prompt_number": 73
    },
    {
     "cell_type": "code",
     "collapsed": false,
     "input": [
      "# Estimating Adjacency from distance using equal size kmeans\n",
      "est_adj=spg.adjacency_2Clusters_eq(Delta_naive,n_objects/2,n_objects/2,2)\n",
      "# Computing clusters indexes from adjacency\n",
      "est_clusters_naive=vis.clusters_from_adjacency(est_adj,n_clusters)\n",
      "# Visualizing the cluster separation\n",
      "vis.visualization_2D(set_of_objects,est_clusters,0,1)"
     ],
     "language": "python",
     "metadata": {},
     "outputs": [
      {
       "metadata": {},
       "output_type": "display_data",
       "png": "[encoded data removed]",
       "text": [
        "<matplotlib.figure.Figure at 0x7f80bc288b90>"
       ]
      }
     ],
     "prompt_number": 74
    },
    {
     "cell_type": "code",
     "collapsed": false,
     "input": [
      "pt.n_mutual_info(est_clusters_naive,real_clusters,2)"
     ],
     "language": "python",
     "metadata": {},
     "outputs": [
      {
       "metadata": {},
       "output_type": "pyout",
       "prompt_number": 75,
       "text": [
        "0.111036967285669"
       ]
      }
     ],
     "prompt_number": 75
    },
    {
     "cell_type": "code",
     "collapsed": false,
     "input": [
      "# Estimating the distance matrix from a Maximum likelihood EM algorithm\n",
      "\n",
      "Delta_est,Assessors_est,S_est=em.EM_est(Votes,n_objects,0.0001)\n",
      "plt.pcolor(np.ones((n_objects,n_objects))-Delta_est)\n",
      "plt.show()"
     ],
     "language": "python",
     "metadata": {},
     "outputs": [
      {
       "output_type": "stream",
       "stream": "stdout",
       "text": [
        "Convergence reached in 22 iterations\n"
       ]
      },
      {
       "metadata": {},
       "output_type": "display_data",
       "png": "[encoded data removed]",
       "text": [
        "<matplotlib.figure.Figure at 0x7f80ba5e4a10>"
       ]
      }
     ],
     "prompt_number": 76
    },
    {
     "cell_type": "code",
     "collapsed": false,
     "input": [
      "# Estimating Adjacency from distance using equal size kmeans\n",
      "est_adj=spg.adjacency_2Clusters_eq(Delta_est,n_objects/2,n_objects/2,2)\n",
      "# Computing clusters indexes from adjacency\n",
      "est_clusters=vis.clusters_from_adjacency(est_adj,n_clusters)\n",
      "# Visualizing the cluster separation\n",
      "vis.visualization_2D(set_of_objects,est_clusters,0,1)"
     ],
     "language": "python",
     "metadata": {},
     "outputs": [
      {
       "metadata": {},
       "output_type": "display_data",
       "png": "[encoded data removed]",
       "text": [
        "<matplotlib.figure.Figure at 0x7f80ba5a65d0>"
       ]
      }
     ],
     "prompt_number": 77
    },
    {
     "cell_type": "code",
     "collapsed": false,
     "input": [
      "pt.n_mutual_info(est_clusters,real_clusters,2)"
     ],
     "language": "python",
     "metadata": {},
     "outputs": [
      {
       "metadata": {},
       "output_type": "pyout",
       "prompt_number": 78,
       "text": [
        "0.51772408740676545"
       ]
      }
     ],
     "prompt_number": 78
    },
    {
     "cell_type": "code",
     "collapsed": false,
     "input": [
      "nai"
     ],
     "language": "python",
     "metadata": {},
     "outputs": []
    }
   ],
   "metadata": {}
  }
 ]
}