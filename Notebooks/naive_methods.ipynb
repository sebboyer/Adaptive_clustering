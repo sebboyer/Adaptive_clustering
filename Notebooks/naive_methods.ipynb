{
 "metadata": {
  "name": ""
 },
 "nbformat": 3,
 "nbformat_minor": 0,
 "worksheets": [
  {
   "cells": [
    {
     "cell_type": "markdown",
     "metadata": {},
     "source": [
      "Naive because don't take into account the history of the performance but only the current state of the problem (current results)"
     ]
    },
    {
     "cell_type": "code",
     "collapsed": false,
     "input": [
      "import numpy as np\n",
      "import Assessor_model as ass\n",
      "import EM_algorithm as em\n",
      "import matplotlib.pyplot as plt\n",
      "import graph_formulation as gra\n",
      "import networkx as nx\n",
      "#import graph_formulation as gra\n",
      "get_ipython().magic(u'matplotlib inline')"
     ],
     "language": "python",
     "metadata": {},
     "outputs": [
      {
       "ename": "ImportError",
       "evalue": "No module named Assessor_model",
       "output_type": "pyerr",
       "traceback": [
        "\u001b[0;31m---------------------------------------------------------------------------\u001b[0m\n\u001b[0;31mImportError\u001b[0m                               Traceback (most recent call last)",
        "\u001b[0;32m<ipython-input-1-53cc8e51f3c9>\u001b[0m in \u001b[0;36m<module>\u001b[0;34m()\u001b[0m\n\u001b[1;32m      1\u001b[0m \u001b[0;32mimport\u001b[0m \u001b[0mnumpy\u001b[0m \u001b[0;32mas\u001b[0m \u001b[0mnp\u001b[0m\u001b[0;34m\u001b[0m\u001b[0m\n\u001b[0;32m----> 2\u001b[0;31m \u001b[0;32mimport\u001b[0m \u001b[0mAssessor_model\u001b[0m \u001b[0;32mas\u001b[0m \u001b[0mass\u001b[0m\u001b[0;34m\u001b[0m\u001b[0m\n\u001b[0m\u001b[1;32m      3\u001b[0m \u001b[0;32mimport\u001b[0m \u001b[0mEM_algorithm\u001b[0m \u001b[0;32mas\u001b[0m \u001b[0mem\u001b[0m\u001b[0;34m\u001b[0m\u001b[0m\n\u001b[1;32m      4\u001b[0m \u001b[0;32mimport\u001b[0m \u001b[0mmatplotlib\u001b[0m\u001b[0;34m.\u001b[0m\u001b[0mpyplot\u001b[0m \u001b[0;32mas\u001b[0m \u001b[0mplt\u001b[0m\u001b[0;34m\u001b[0m\u001b[0m\n\u001b[1;32m      5\u001b[0m \u001b[0;32mimport\u001b[0m \u001b[0mgraph_formulation\u001b[0m \u001b[0;32mas\u001b[0m \u001b[0mgra\u001b[0m\u001b[0;34m\u001b[0m\u001b[0m\n",
        "\u001b[0;31mImportError\u001b[0m: No module named Assessor_model"
       ]
      }
     ],
     "prompt_number": 1
    },
    {
     "cell_type": "markdown",
     "metadata": {},
     "source": [
      "The framework for adaptive methods is as follows:\n",
      "- one function should generate the assessor index : from 0 to $n_{assessor}$\n",
      "- another function should generate a set of $n_{object Per Assessment}$ objects index from 0 to $n_{objects}$ \n",
      "- both function should use only the existing results contained in $results$ (a dictionnary : $results[ass_{ind}][ob_{ind1},ob_{ind2}]=True$ or $False$"
     ]
    },
    {
     "cell_type": "code",
     "collapsed": false,
     "input": [
      "#Random method\n",
      "\n",
      "def rand_ass_gene(results,n_ass,n_objects):\n",
      "    return np.random.randint(0,n_ass)\n",
      "\n",
      "def rand_ob_gene(results,n_ass,n_objects,n_object_per_assessment):\n",
      "    res=list()\n",
      "    for i in range(n_object_per_assessment):\n",
      "        res.append(np.random.randint(0,n_objects))\n",
      "    return res"
     ],
     "language": "python",
     "metadata": {},
     "outputs": [],
     "prompt_number": 2
    },
    {
     "cell_type": "code",
     "collapsed": false,
     "input": [
      "# Fake data for testing \n",
      "\n",
      "n_ass=3\n",
      "n_objects=12\n",
      "n_object_per_assessment=4\n",
      "\n",
      "results={}\n",
      "for i in range(3):\n",
      "    results[i]={}\n",
      "    \n",
      "results[0][1,3]=True\n",
      "results[0][5,4]=True\n",
      "results[0][2,9]=True\n",
      "results[0][1,7]=True\n",
      "results[0][0,9]=False\n",
      "results[0][8,9]=False\n",
      "results[0][4,10]=False\n",
      "results[0][11,5]=False    \n",
      "\n",
      "\n",
      "results[1][0,2]=True\n",
      "results[1][4,6]=True\n",
      "results[1][8,7]=True\n",
      "results[1][1,3]=False\n",
      "results[1][2,5]=False\n",
      "results[1][2,10]=False\n",
      "results[1][11,1]=False\n",
      "\n",
      "\n",
      "results[2][7,9]=True\n",
      "results[2][1,7]=True\n",
      "results[2][8,9]=False\n",
      "results[2][4,9]=False\n",
      "results[2][4,5]=False\n",
      "results[2][2,1]=False"
     ],
     "language": "python",
     "metadata": {},
     "outputs": [],
     "prompt_number": 3
    },
    {
     "cell_type": "code",
     "collapsed": false,
     "input": [
      "ass.symmetrized_Votes(results)\n",
      "Delta_est,Assessors_est,S_est=em.EM_est(results,n_objects,0.001)\n",
      "plt.pcolor(Delta_est)\n",
      "plt.show()"
     ],
     "language": "python",
     "metadata": {},
     "outputs": [
      {
       "output_type": "stream",
       "stream": "stdout",
       "text": [
        "Convergence reached in 15 iterations\n"
       ]
      },
      {
       "metadata": {},
       "output_type": "display_data",
       "png": "[encoded data removed]",
       "text": [
        "<matplotlib.figure.Figure at 0x7ff5e2c34c10>"
       ]
      }
     ],
     "prompt_number": 4
    },
    {
     "cell_type": "markdown",
     "metadata": {},
     "source": [
      "Method based on the number of occurences (meta data of the votes : assessor + set of objects)"
     ]
    },
    {
     "cell_type": "code",
     "collapsed": false,
     "input": [
      "# Returns the least asked assessor\n",
      "def equi_ass_gene(results,n_ass,n_objects): # Return least asked assessor\n",
      "    return np.argsort([ len(results.values()[i]) for i in results.keys()])[0]"
     ],
     "language": "python",
     "metadata": {},
     "outputs": [],
     "prompt_number": 5
    },
    {
     "cell_type": "code",
     "collapsed": false,
     "input": [
      "# Returns a group of objects formed by randomly chosen elements from the least viewed ones\n",
      "def equi_ob_gene(results,n_ass,n_objects,n_object_per_assessment): # Return the list of pairs in increasing orders of views\n",
      "    occurrences={}\n",
      "    for i in results:\n",
      "        for pair in results[i]:\n",
      "            if pair[0] not in occurrences:\n",
      "                occurrences[pair[0]]=1\n",
      "            else:\n",
      "                occurrences[pair[0]]+=1\n",
      "            if pair[1] not in occurrences:\n",
      "                occurrences[pair[1]]=1\n",
      "            else:\n",
      "                occurrences[pair[1]]+=1\n",
      "    item_list=list()\n",
      "    occurences_list=list()\n",
      "    for item in occurrences:\n",
      "        item_list.append(item)\n",
      "        occurences_list.append(occurrences[item])\n",
      "    sorted_ind=np.argsort(occurences_list)\n",
      "    sorted_pairs=[item_list[i] for i in sorted_ind]\n",
      "    \n",
      "    if len(sorted_pairs)<n_object_per_assessment:\n",
      "        res=list()\n",
      "        for i in range(n_object_per_assessment):\n",
      "            res.append(np.random.randint(0,n_objects))\n",
      "    else:\n",
      "        res=sorted_pairs\n",
      "    \n",
      "    \n",
      "    return res[:n_object_per_assessment]\n",
      "    "
     ],
     "language": "python",
     "metadata": {},
     "outputs": [],
     "prompt_number": 6
    },
    {
     "cell_type": "code",
     "collapsed": false,
     "input": [
      "equi_ass_gene(results,n_ass,n_objects)"
     ],
     "language": "python",
     "metadata": {},
     "outputs": [
      {
       "metadata": {},
       "output_type": "pyout",
       "prompt_number": 7,
       "text": [
        "2"
       ]
      }
     ],
     "prompt_number": 7
    },
    {
     "cell_type": "code",
     "collapsed": false,
     "input": [
      "equi_ob_gene(results,n_ass,n_objects,n_object_per_assessment)"
     ],
     "language": "python",
     "metadata": {},
     "outputs": [
      {
       "metadata": {},
       "output_type": "pyout",
       "prompt_number": 8,
       "text": [
        "[6, 0, 3, 10]"
       ]
      }
     ],
     "prompt_number": 8
    },
    {
     "cell_type": "markdown",
     "metadata": {},
     "source": [
      "Method based on the distance and the confidence values of each pair"
     ]
    },
    {
     "cell_type": "code",
     "collapsed": false,
     "input": [
      "# Choose assessor with the highest possible accuracy\n",
      "def discriminatory_ass_gene(results,n_ass,n_objects):\n",
      "    ass.symmetrized_Votes(results)\n",
      "    Delta_est,Assessors_est,S_est=em.EM_est(results,n_objects,0.001)\n",
      "    return np.argsort(Assessors_est)[0]\n",
      "\n",
      "# Choose set of objects by pair among the least confident pairs\n",
      "def discriminatory_ob_gene(results,n_ass,n_objects,n_object_per_assessment):\n",
      "    ass.symmetrized_Votes(results)\n",
      "    Delta_est,Assessors_est,S_est=em.EM_est(results,n_objects,0.001)\n",
      "    s=np.argsort(S_est,axis=None)\n",
      "    n=np.shape(S_est)[0]\n",
      "    sorted_ind=[(s[i]/n,s[i]-(s[i]/n)*n) for i in range(len(s))]\n",
      "    \n",
      "    res=objects_from_edges(sorted_ind,n_object_per_assessment)\n",
      "    return res"
     ],
     "language": "python",
     "metadata": {},
     "outputs": [],
     "prompt_number": 23
    },
    {
     "cell_type": "code",
     "collapsed": false,
     "input": [
      "def objects_from_edges(l_edges,nob):\n",
      "    res=list()\n",
      "    i=0\n",
      "    while len(res)<nob:\n",
      "        ob1=l_edges[i][0]\n",
      "        ob2=l_edges[i][1]\n",
      "        if ob1 not in res:\n",
      "            res.append(ob1)\n",
      "        if ob2 not in res:\n",
      "            res.append(ob2)\n",
      "        i+=1\n",
      "    return res"
     ],
     "language": "python",
     "metadata": {},
     "outputs": [],
     "prompt_number": 22
    },
    {
     "cell_type": "code",
     "collapsed": false,
     "input": [
      "a=np.array([[1,2,3],[4,7,6]])"
     ],
     "language": "python",
     "metadata": {},
     "outputs": [],
     "prompt_number": 9
    },
    {
     "cell_type": "code",
     "collapsed": false,
     "input": [
      "s=np.argsort(a,axis=None)\n",
      "print s"
     ],
     "language": "python",
     "metadata": {},
     "outputs": [
      {
       "output_type": "stream",
       "stream": "stdout",
       "text": [
        "[0 1 2 3 5 4]\n"
       ]
      }
     ],
     "prompt_number": 14
    },
    {
     "cell_type": "code",
     "collapsed": false,
     "input": [
      "[(s[i]/3,s[i]-(s[i]/3)*3) for i in range(len(s))]"
     ],
     "language": "python",
     "metadata": {},
     "outputs": [
      {
       "metadata": {},
       "output_type": "pyout",
       "prompt_number": 15,
       "text": [
        "[(0, 0), (0, 1), (0, 2), (1, 0), (1, 2), (1, 1)]"
       ]
      }
     ],
     "prompt_number": 15
    },
    {
     "cell_type": "code",
     "collapsed": false,
     "input": [
      "discriminatory_ob_gene(results,n_ass,n_objects,n_object_per_assessment)"
     ],
     "language": "python",
     "metadata": {},
     "outputs": [
      {
       "output_type": "stream",
       "stream": "stdout",
       "text": [
        "Convergence reached in 29 iterations\n"
       ]
      },
      {
       "metadata": {},
       "output_type": "pyout",
       "prompt_number": 24,
       "text": [
        "[0, 8, 2, 1]"
       ]
      }
     ],
     "prompt_number": 24
    },
    {
     "cell_type": "markdown",
     "metadata": {},
     "source": [
      "Method based on the complex structure (graph) of relationship between objects"
     ]
    },
    {
     "cell_type": "code",
     "collapsed": false,
     "input": [
      "def graph_ob_gene(results,n_ass,n_objects,n_object_per_assessment):\n",
      "    # Compute Distance\n",
      "    ass.symmetrized_Votes(results)\n",
      "    Delta_est,Assessors_est,S_est=em.EM_est(results,n_objects,0.00001)\n",
      "    Delta=np.ones(np.shape(Delta_est))-Delta_est\n",
      "    Delta=Delta/np.max(Delta,axis=None)\n",
      "    sorted_Delta=np.sort(Delta,axis=None)\n",
      "    # Set threshold as median of non zeros values\n",
      "    threshold=np.median([sorted_Delta[i] for i in np.nonzero(sorted_Delta)])\n",
      "    # Create graph and compute betweeness of edges\n",
      "    G=gra.init_graph(Delta,threshold)\n",
      "    edges_betweeness=gra.betweeness(G)\n",
      "    # Return the appropriate number of objects choosing the high betweeness first\n",
      "    best_ind=list(np.argsort(edges_betweeness.values()))[-n_object_per_assessment:]\n",
      "    best_edges=[edges_betweeness.keys()[i] for i in best_ind]\n",
      "    res=objects_from_edges(best_edges,n_object_per_assessment)\n",
      "    return res"
     ],
     "language": "python",
     "metadata": {},
     "outputs": [],
     "prompt_number": 129
    },
    {
     "cell_type": "code",
     "collapsed": false,
     "input": [
      "print graph_ob_gene(results,n_ass,n_objects,n_object_per_assessment)"
     ],
     "language": "python",
     "metadata": {},
     "outputs": [
      {
       "output_type": "stream",
       "stream": "stdout",
       "text": [
        "Convergence reached in 24 iterations\n",
        "[0, 2, 1, 11]\n"
       ]
      }
     ],
     "prompt_number": 153
    },
    {
     "cell_type": "code",
     "collapsed": false,
     "input": [],
     "language": "python",
     "metadata": {},
     "outputs": []
    }
   ],
   "metadata": {}
  }
 ]
}