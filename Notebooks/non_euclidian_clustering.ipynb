{
 "metadata": {
  "name": "",
  "signature": "sha256:61d972d52f6059ec2c27f06f7d5b13709687660628da719bf4b05d8894beab89"
 },
 "nbformat": 3,
 "nbformat_minor": 0,
 "worksheets": [
  {
   "cells": [
    {
     "cell_type": "code",
     "collapsed": false,
     "input": [
      "import numpy as np"
     ],
     "language": "python",
     "metadata": {},
     "outputs": [],
     "prompt_number": 2
    },
    {
     "cell_type": "code",
     "collapsed": false,
     "input": [
      "def initialize_U(K,N):\n",
      "    U=np.random.rand(K,N)\n",
      "    for k in range(N):\n",
      "        U[:,k]=U[:,k]/float(sum(U[:,k]))\n",
      "    return U"
     ],
     "language": "python",
     "metadata": {},
     "outputs": [],
     "prompt_number": 3
    },
    {
     "cell_type": "code",
     "collapsed": false,
     "input": [
      "def updated_U(Delta,U,beta,m):\n",
      "    \n",
      "    # Calculate the K-means vectors\n",
      "    K,n=np.shape(U)\n",
      "    V=list()\n",
      "    for i in range(K):\n",
      "        v=U[i]/float(sum(U[i,:]))\n",
      "        V.append(v)\n",
      "    V=np.array(V)\n",
      "    \n",
      "    # Calculate the distances\n",
      "    D=np.zeros((K,n))\n",
      "    for i in range(K):\n",
      "        D_beta=Delta+beta*(np.ones((n,n))-np.eye(n))\n",
      "        DV=np.dot(D_beta,V[i])\n",
      "        VDV=np.dot(V[i].T,DV)\n",
      "        for k in range(n):\n",
      "            D[i,k]=DV[k]-VDV/2.0\n",
      "    \n",
      "    # Update beta if necessary\n",
      "    delta_beta=0\n",
      "    E=np.eye(n)\n",
      "    test=len(D[D<-10**(-10)])>0\n",
      "    new_beta=beta\n",
      "    if test:\n",
      "    \n",
      "        # Update delta_beta\n",
      "        m=0\n",
      "        for i in range(K):\n",
      "            for k in range(n):\n",
      "                v=-2*D[i,k]/float(np.dot(V[i]-E[k],(V[i]-E[k]).T))\n",
      "                m=max(m,v)\n",
      "        delta_beta=m+0.001\n",
      "        \n",
      "        # Update D_ik\n",
      "        for i in range(K):\n",
      "            for k in range(n):\n",
      "                D[i,k]=D[i,k]+(delta_beta/2.0)*np.dot(V[i]-E[k],(V[i]-E[k]).T)\n",
      "        \n",
      "        #Update beta\n",
      "        new_beta=beta+delta_beta\n",
      "    \n",
      "    # Update U\n",
      "    for k in range(n):\n",
      "        for i in range(K):\n",
      "            seq=[(D[i,k]/D[j,k])**(1/float(m-1)) for j in range(K)]\n",
      "            s=sum(seq)\n",
      "            U[i,k]=1/s        \n",
      "\n",
      "    return U,new_beta"
     ],
     "language": "python",
     "metadata": {},
     "outputs": [],
     "prompt_number": 4
    },
    {
     "cell_type": "code",
     "collapsed": false,
     "input": [
      "def NERFCM(D,K,m,epsilon):\n",
      "    n=np.shape(D)[0]\n",
      "    U_minus=initialize_U(K,n)\n",
      "    beta=0\n",
      "    diff=2*epsilon\n",
      "    while diff>epsilon:\n",
      "        U_plus,beta=updated_U(D,U_minus,beta,m)\n",
      "        diff=np.max(np.abs(U_minus-U_plus))\n",
      "        U_minus=U_plus\n",
      "    return U_minus \n",
      "\n",
      "def NERFCM_average_Adj(D,K,m,epsilon,it):\n",
      "    Res_Adj=0\n",
      "    Res_U=0\n",
      "    Res_U_proba=0\n",
      "    for i in range(it):\n",
      "        U=NERFCM(D,K,m,epsilon)\n",
      "        Res_U+=U\n",
      "        Adj=max_likelihood_adj(U)\n",
      "        Res_Adj+=Adj\n",
      "        max_U=max_likelihood_clusters(U)\n",
      "        Res_U_proba+=max_U\n",
      "    Res_Adj=Res_Adj/it\n",
      "    Res_U=Res_U/it\n",
      "    Res_U_proba=Res_U_proba/it\n",
      "    print Res_Adj\n",
      "    print Res_U\n",
      "    print Res_U_proba\n",
      "    n=np.shape(Res_Adj)[0]\n",
      "    for i in range(n):\n",
      "        for j in range(n):\n",
      "            if Res_Adj[i,j]>0.5:\n",
      "                Res_Adj[i,j]=1\n",
      "            else:\n",
      "                Res_Adj[i,j]=0\n",
      "    return Res_Adj"
     ],
     "language": "python",
     "metadata": {},
     "outputs": [],
     "prompt_number": 18
    },
    {
     "cell_type": "code",
     "collapsed": false,
     "input": [
      "def max_likelihood_adj(U):\n",
      "    K,n=np.shape(U)\n",
      "    Adj=np.zeros((n,n))\n",
      "    d={}\n",
      "    for i in range(K):\n",
      "        d[i]=list()\n",
      "    for k in range(n):\n",
      "        d[np.argmax(U[:,k])].append(k)\n",
      "    for i in range(K):\n",
      "        for j in d[i]:\n",
      "            for l in d[i]:\n",
      "                Adj[j,l]=1\n",
      "                Adj[l,j]=1\n",
      "    return Adj\n",
      "\n",
      "def max_likelihood_clusters(U):\n",
      "    K,n=np.shape(U)\n",
      "    clusters=np.zeros((K,n))\n",
      "    d={}\n",
      "\n",
      "    for j in range(n):\n",
      "        clusters[np.argmax(U[:,j]),j]=1               \n",
      "    \n",
      "    return clusters\n"
     ],
     "language": "python",
     "metadata": {},
     "outputs": [],
     "prompt_number": 20
    },
    {
     "cell_type": "code",
     "collapsed": false,
     "input": [
      "N=5\n",
      "D=np.zeros((N,N))\n",
      "D[0,3]=1.9\n",
      "D[0,4]=1\n",
      "D[1,3]=1\n",
      "D[1,4]=1.9\n",
      "D[2,3]=1.8\n",
      "D[2,4]=1.9\n",
      "D[0,1]=0.2\n",
      "D[0,2]=0.2\n",
      "D[2,1]=0.2\n",
      "D[3,4]=0.2\n",
      "D=(0.5)*(D+D.T)\n",
      "Delta=D\n",
      "print Delta"
     ],
     "language": "python",
     "metadata": {},
     "outputs": [
      {
       "output_type": "stream",
       "stream": "stdout",
       "text": [
        "[[ 0.    0.1   0.1   0.95  0.5 ]\n",
        " [ 0.1   0.    0.1   0.5   0.95]\n",
        " [ 0.1   0.1   0.    0.9   0.95]\n",
        " [ 0.95  0.5   0.9   0.    0.1 ]\n",
        " [ 0.5   0.95  0.95  0.1   0.  ]]\n"
       ]
      }
     ],
     "prompt_number": 21
    },
    {
     "cell_type": "code",
     "collapsed": false,
     "input": [
      "Delta=[[ 0. ,0.00170612,  0.00169131,  0.02469532,  0.0017214,   0.01065122],\n",
      " [ 0.00170612 , 0.        ,  0.00156305 , 0.02263081 , 0.00165207 , 0.02359098],\n",
      " [ 0.00169131 , 0.00156305  ,0.         , 0.02215095  ,0.00170867 , 0.02426879],\n",
      " [ 0.02469532 , 0.02263081 , 0.02215095 , 0.          ,0.00105833 , 0.00064471],\n",
      " [ 0.0017214  , 0.00165207 , 0.00170867 , 0.00105833 , 0.          ,0.00068122],\n",
      " [ 0.01065122 , 0.02359098 , 0.02426879 , 0.00064471  ,0.00068122 , 0.        ]]"
     ],
     "language": "python",
     "metadata": {},
     "outputs": [],
     "prompt_number": 22
    },
    {
     "cell_type": "code",
     "collapsed": false,
     "input": [
      "Delta"
     ],
     "language": "python",
     "metadata": {},
     "outputs": [
      {
       "metadata": {},
       "output_type": "pyout",
       "prompt_number": 26,
       "text": [
        "[[0.0, 0.00170612, 0.00169131, 0.02469532, 0.0017214, 0.01065122],\n",
        " [0.00170612, 0.0, 0.00156305, 0.02263081, 0.00165207, 0.02359098],\n",
        " [0.00169131, 0.00156305, 0.0, 0.02215095, 0.00170867, 0.02426879],\n",
        " [0.02469532, 0.02263081, 0.02215095, 0.0, 0.00105833, 0.00064471],\n",
        " [0.0017214, 0.00165207, 0.00170867, 0.00105833, 0.0, 0.00068122],\n",
        " [0.01065122, 0.02359098, 0.02426879, 0.00064471, 0.00068122, 0.0]]"
       ]
      }
     ],
     "prompt_number": 26
    },
    {
     "cell_type": "code",
     "collapsed": false,
     "input": [
      "m=2\n",
      "K=2\n",
      "epsilon=0.0000001\n",
      "U=NERFCM(Delta,K,m,epsilon)"
     ],
     "language": "python",
     "metadata": {},
     "outputs": [],
     "prompt_number": 23
    },
    {
     "cell_type": "code",
     "collapsed": false,
     "input": [
      "U"
     ],
     "language": "python",
     "metadata": {},
     "outputs": [
      {
       "metadata": {},
       "output_type": "pyout",
       "prompt_number": 24,
       "text": [
        "array([[ 0.68287204,  0.68470602,  0.69768697,  0.30216885,  0.30753152,\n",
        "         0.30130933],\n",
        "       [ 0.31712796,  0.31529398,  0.30231303,  0.69783115,  0.69246848,\n",
        "         0.69869067]])"
       ]
      }
     ],
     "prompt_number": 24
    },
    {
     "cell_type": "code",
     "collapsed": false,
     "input": [
      "it=1000\n",
      "Adj=NERFCM_average_Adj(Delta,K,m,epsilon,it)"
     ],
     "language": "python",
     "metadata": {},
     "outputs": [
      {
       "output_type": "stream",
       "stream": "stdout",
       "text": [
        "[[ 1.     0.753  0.741  0.09   0.089  0.282]\n",
        " [ 0.753  1.     0.814  0.165  0.242  0.103]\n",
        " [ 0.741  0.814  1.     0.177  0.252  0.109]\n",
        " [ 0.09   0.165  0.177  1.     0.899  0.808]\n",
        " [ 0.089  0.242  0.252  0.899  1.     0.733]\n",
        " [ 0.282  0.103  0.109  0.808  0.733  1.   ]]\n",
        "[[ 0.49314847  0.49561416  0.49530123  0.50572728  0.50968615  0.50472722]\n",
        " [ 0.50685153  0.50438584  0.50469877  0.49427272  0.49031385  0.49527278]]\n",
        "[[ 0.473  0.482  0.48   0.521  0.522  0.517]\n",
        " [ 0.527  0.518  0.52   0.479  0.478  0.483]]\n"
       ]
      }
     ],
     "prompt_number": 25
    },
    {
     "cell_type": "code",
     "collapsed": false,
     "input": [
      "print Adj"
     ],
     "language": "python",
     "metadata": {},
     "outputs": [
      {
       "output_type": "stream",
       "stream": "stdout",
       "text": [
        "[[ 1.  1.  1.  0.  0.  0.]\n",
        " [ 1.  1.  1.  0.  0.  0.]\n",
        " [ 1.  1.  1.  0.  0.  0.]\n",
        " [ 0.  0.  0.  1.  1.  1.]\n",
        " [ 0.  0.  0.  1.  1.  1.]\n",
        " [ 0.  0.  0.  1.  1.  1.]]\n"
       ]
      }
     ],
     "prompt_number": 14
    },
    {
     "cell_type": "code",
     "collapsed": false,
     "input": [],
     "language": "python",
     "metadata": {},
     "outputs": []
    }
   ],
   "metadata": {}
  }
 ]
}