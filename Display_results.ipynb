{
 "metadata": {
  "name": ""
 },
 "nbformat": 3,
 "nbformat_minor": 0,
 "worksheets": [
  {
   "cells": [
    {
     "cell_type": "code",
     "collapsed": false,
     "input": [
      "from definitions import *\n",
      "import pickle\n",
      "import montecarlo_experiments as mce\n",
      "%matplotlib inline"
     ],
     "language": "python",
     "metadata": {},
     "outputs": [
      {
       "output_type": "stream",
       "stream": "stderr",
       "text": [
        "/usr/lib/python2.7/dist-packages/sklearn/pls.py:7: DeprecationWarning: This module has been moved to cross_decomposition and will be removed in 0.16\n",
        "  \"removed in 0.16\", DeprecationWarning)\n"
       ]
      }
     ],
     "prompt_number": 1
    },
    {
     "cell_type": "code",
     "collapsed": false,
     "input": [
      "nexp=\"a8\"   # Number of the experiment\n",
      "\n",
      "test1=utils.extractArray_fromCSV(\"Results/rand\"+nexp+\".csv\",False)\n",
      "test2=utils.extractArray_fromCSV(\"Results/centroid\"+nexp+\".csv\",False)\n",
      "# test3=utils.extractArray_fromCSV(\"Results/explore\"+nexp+\".csv\",False)\n",
      "# test4=utils.extractArray_fromCSV(\"Results/diversity\"+nexp+\".csv\",False)\n",
      "test5=utils.extractArray_fromCSV(\"Results/exploit\"+nexp+\".csv\",False)\n",
      "# test6=utils.extractArray_fromCSV(\"Results/cheating\"+nexp+\".csv\",False)\n",
      "# test7=utils.extractArray_fromCSV(\"Results/centroid_exploit\"+nexp+\".csv\",False)\n",
      "# test8=utils.extractArray_fromCSV(\"Results/centroid_exploit_alternate\"+nexp+\".csv\",False)"
     ],
     "language": "python",
     "metadata": {},
     "outputs": [],
     "prompt_number": 3
    },
    {
     "cell_type": "code",
     "collapsed": false,
     "input": [
      "#####  Displaying results\n",
      "\n",
      "n_assessments=300\n",
      "K=10\n",
      "eval_num=pointsOfUpdate(n_assessments,K)\n",
      "fig=mce.fig_exp([test1,test5],n_assessments,eval_num,False)"
     ],
     "language": "python",
     "metadata": {},
     "outputs": [
      {
       "metadata": {},
       "output_type": "display_data",
       "png": "[encoded data removed]",
       "text": [
        "<matplotlib.figure.Figure at 0x7fccba541750>"
       ]
      }
     ],
     "prompt_number": 4
    },
    {
     "cell_type": "code",
     "collapsed": false,
     "input": [
      "def variation(res):\n",
      "    variation=list()\n",
      "    for j in range(np.shape(res)[1]-1):\n",
      "        var=[(test1[i,j+1]-test1[i,j])**2 for i in range(np.shape(test1)[0])]\n",
      "        variation.append(np.mean(var))\n",
      "    return variation"
     ],
     "language": "python",
     "metadata": {},
     "outputs": [],
     "prompt_number": 11
    },
    {
     "cell_type": "code",
     "collapsed": false,
     "input": [
      "var=variation(test1)"
     ],
     "language": "python",
     "metadata": {},
     "outputs": [],
     "prompt_number": 39
    },
    {
     "cell_type": "code",
     "collapsed": false,
     "input": [
      "exp=utils.extractArray_fromCSV(\"experiment/exp_parameters.csv\",False)"
     ],
     "language": "python",
     "metadata": {},
     "outputs": [
      {
       "ename": "ValueError",
       "evalue": "could not convert string to float: exp_id",
       "output_type": "pyerr",
       "traceback": [
        "\u001b[0;31m---------------------------------------------------------------------------\u001b[0m\n\u001b[0;31mValueError\u001b[0m                                Traceback (most recent call last)",
        "\u001b[0;32m<ipython-input-78-5371568ede56>\u001b[0m in \u001b[0;36m<module>\u001b[0;34m()\u001b[0m\n\u001b[0;32m----> 1\u001b[0;31m \u001b[0mexp\u001b[0m\u001b[0;34m=\u001b[0m\u001b[0mutils\u001b[0m\u001b[0;34m.\u001b[0m\u001b[0mextractArray_fromCSV\u001b[0m\u001b[0;34m(\u001b[0m\u001b[0;34m\"experiment/exp_parameters.csv\"\u001b[0m\u001b[0;34m,\u001b[0m\u001b[0mFalse\u001b[0m\u001b[0;34m)\u001b[0m\u001b[0;34m\u001b[0m\u001b[0m\n\u001b[0m",
        "\u001b[0;32m/home/sebastien/Documents/Adaptive clustering/Simulation python/Tools/utils.pyc\u001b[0m in \u001b[0;36mextractArray_fromCSV\u001b[0;34m(csv_file, skip_header)\u001b[0m\n\u001b[1;32m     25\u001b[0m                                                 \u001b[0mline\u001b[0m\u001b[0;34m.\u001b[0m\u001b[0mappend\u001b[0m\u001b[0;34m(\u001b[0m\u001b[0;36m0\u001b[0m\u001b[0;34m)\u001b[0m\u001b[0;34m\u001b[0m\u001b[0m\n\u001b[1;32m     26\u001b[0m                                         \u001b[0;32melse\u001b[0m\u001b[0;34m:\u001b[0m\u001b[0;34m\u001b[0m\u001b[0m\n\u001b[0;32m---> 27\u001b[0;31m                                                 \u001b[0mline\u001b[0m\u001b[0;34m.\u001b[0m\u001b[0mappend\u001b[0m\u001b[0;34m(\u001b[0m\u001b[0mfloat\u001b[0m\u001b[0;34m(\u001b[0m\u001b[0mx\u001b[0m\u001b[0;34m)\u001b[0m\u001b[0;34m)\u001b[0m\u001b[0;34m\u001b[0m\u001b[0m\n\u001b[0m\u001b[1;32m     28\u001b[0m                                 \u001b[0mdata\u001b[0m\u001b[0;34m.\u001b[0m\u001b[0mappend\u001b[0m\u001b[0;34m(\u001b[0m\u001b[0mline\u001b[0m\u001b[0;34m)\u001b[0m\u001b[0;34m\u001b[0m\u001b[0m\n\u001b[1;32m     29\u001b[0m         \u001b[0;32mreturn\u001b[0m \u001b[0mnp\u001b[0m\u001b[0;34m.\u001b[0m\u001b[0marray\u001b[0m\u001b[0;34m(\u001b[0m\u001b[0mdata\u001b[0m\u001b[0;34m)\u001b[0m\u001b[0;34m\u001b[0m\u001b[0m\n",
        "\u001b[0;31mValueError\u001b[0m: could not convert string to float: exp_id"
       ]
      }
     ],
     "prompt_number": 78
    },
    {
     "cell_type": "code",
     "collapsed": false,
     "input": [
      "import csv\n",
      "content=list()\n",
      "with open(\"experiment/exp_parameters.csv\", 'r') as csv_file:\n",
      "    reader= csv.reader(csv_file, delimiter = ',')\n",
      "    next(reader,None)\n",
      "    for row in reader:\n",
      "        content.append(row)\n",
      "        "
     ],
     "language": "python",
     "metadata": {},
     "outputs": [],
     "prompt_number": 80
    },
    {
     "cell_type": "code",
     "collapsed": false,
     "input": [
      "content"
     ],
     "language": "python",
     "metadata": {},
     "outputs": [
      {
       "metadata": {},
       "output_type": "pyout",
       "prompt_number": 81,
       "text": [
        "[['a',\n",
        "  'SetObjects/soo_100_3.p',\n",
        "  'SetAssessors/soa_noisy.p',\n",
        "  '3',\n",
        "  '300',\n",
        "  '7',\n",
        "  '10',\n",
        "  '50',\n",
        "  'FALSE',\n",
        "  'FALSE',\n",
        "  'FALSE',\n",
        "  '1',\n",
        "  '1',\n",
        "  '1',\n",
        "  '1',\n",
        "  '1']]"
       ]
      }
     ],
     "prompt_number": 81
    },
    {
     "cell_type": "code",
     "collapsed": false,
     "input": [
      "plt.plot(range(len(var)),var)"
     ],
     "language": "python",
     "metadata": {},
     "outputs": [
      {
       "metadata": {},
       "output_type": "pyout",
       "prompt_number": 57,
       "text": [
        "[<matplotlib.lines.Line2D at 0x7f6567a21250>]"
       ]
      },
      {
       "metadata": {},
       "output_type": "display_data",
       "png": "[encoded data removed]",
       "text": [
        "<matplotlib.figure.Figure at 0x7f6567a08790>"
       ]
      }
     ],
     "prompt_number": 57
    },
    {
     "cell_type": "code",
     "collapsed": false,
     "input": [
      "min(0,1)"
     ],
     "language": "python",
     "metadata": {},
     "outputs": [
      {
       "metadata": {},
       "output_type": "pyout",
       "prompt_number": 33,
       "text": [
        "0"
       ]
      }
     ],
     "prompt_number": 33
    },
    {
     "cell_type": "code",
     "collapsed": false,
     "input": [
      "test0"
     ],
     "language": "python",
     "metadata": {},
     "outputs": [
      {
       "metadata": {},
       "output_type": "pyout",
       "prompt_number": 37,
       "text": [
        "array([[ 0.10813115,  0.03464136,  0.04401471, ...,  0.98584493,\n",
        "         0.98584493,  0.98584493],\n",
        "       [ 0.04275955,  0.04050861,  0.01137525, ...,  1.        ,\n",
        "         1.        ,  1.        ],\n",
        "       [-0.00180115,  0.05332966,  0.0332628 , ...,  0.48533117,\n",
        "         0.48533117,  0.48533117],\n",
        "       ..., \n",
        "       [ 0.06691618,  0.10576484,  0.10499575, ...,  0.98584493,\n",
        "         0.98584493,  0.98584493],\n",
        "       [ 0.05991666,  0.01862271,  0.17053994, ...,  0.98584493,\n",
        "         0.98584493,  0.98584493],\n",
        "       [ 0.00212307,  0.04250953,  0.04958844, ...,  0.95988236,\n",
        "         0.97269391,  0.97269391]])"
       ]
      }
     ],
     "prompt_number": 37
    },
    {
     "cell_type": "code",
     "collapsed": false,
     "input": [
      "exp_list=['a','b','c','d','e','f','g']+['a','b','c','d','e','f','g']"
     ],
     "language": "python",
     "metadata": {},
     "outputs": [],
     "prompt_number": 34
    },
    {
     "cell_type": "code",
     "collapsed": false,
     "input": [
      "exp_list"
     ],
     "language": "python",
     "metadata": {},
     "outputs": [
      {
       "metadata": {},
       "output_type": "pyout",
       "prompt_number": 36,
       "text": [
        "['a', 'b', 'c', 'd', 'e', 'f', 'g', 'a', 'b', 'c', 'd', 'e', 'f', 'g']"
       ]
      }
     ],
     "prompt_number": 36
    },
    {
     "cell_type": "code",
     "collapsed": false,
     "input": [],
     "language": "python",
     "metadata": {},
     "outputs": []
    }
   ],
   "metadata": {}
  }
 ]
}