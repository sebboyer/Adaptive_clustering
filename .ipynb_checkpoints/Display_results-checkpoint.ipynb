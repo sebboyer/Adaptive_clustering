{
 "metadata": {
  "name": ""
 },
 "nbformat": 3,
 "nbformat_minor": 0,
 "worksheets": [
  {
   "cells": [
    {
     "cell_type": "code",
     "collapsed": false,
     "input": [
      "from definitions import *\n",
      "import pickle\n",
      "import montecarlo_experiments as mce\n",
      "%matplotlib inline"
     ],
     "language": "python",
     "metadata": {},
     "outputs": [],
     "prompt_number": 2
    },
    {
     "cell_type": "code",
     "collapsed": false,
     "input": [
      "##### Loading the results\n",
      "\n",
      "nexp=\"10\"   # Number of the experiment\n",
      "n_assessments=300\n",
      "K=5\n",
      "\n",
      "test0=utils.extractArray_fromCSV(\"Results/rand\"+nexp+\".csv\",False)\n",
      "# test1=utils.extractArray_fromCSV(\"Results/diversity\"+nexp+\".csv\",False)\n",
      "# test2=utils.extractArray_fromCSV(\"Results/exploit\"+nexp+\".csv\",False)\n",
      "# test3=utils.extractArray_fromCSV(\"Results/explore\"+nexp+\".csv\",False)\n",
      "# test4=utils.extractArray_fromCSV(\"Results/centroid\"+nexp+\".csv\",False)"
     ],
     "language": "python",
     "metadata": {},
     "outputs": [],
     "prompt_number": 2
    },
    {
     "cell_type": "code",
     "collapsed": false,
     "input": [
      "##### Loading the results\n",
      "\n",
      "nexp=\"11\"   # Number of the experiment\n",
      "n_assessments=300\n",
      "K=5\n",
      "\n",
      "test00=utils.extractArray_fromCSV(\"Results/rand\"+nexp+\".csv\",False)\n",
      "# test1=utils.extractArray_fromCSV(\"Results/diversity\"+nexp+\".csv\",False)\n",
      "# test2=utils.extractArray_fromCSV(\"Results/exploit\"+nexp+\".csv\",False)\n",
      "# test3=utils.extractArray_fromCSV(\"Results/explore\"+nexp+\".csv\",False)\n",
      "test44=utils.extractArray_fromCSV(\"Results/centroid\"+nexp+\".csv\",False)"
     ],
     "language": "python",
     "metadata": {},
     "outputs": [],
     "prompt_number": 9
    },
    {
     "cell_type": "code",
     "collapsed": false,
     "input": [
      "nexp=\"16\"   # Number of the experiment\n",
      "\n",
      "test1=utils.extractArray_fromCSV(\"Results/rand\"+nexp+\".csv\",False)\n",
      "# test2=utils.extractArray_fromCSVCSV(\"Results/centroid\"+nexp+\".csv\",False)\n",
      "# test3=utils.extractArray_fromCSV(\"Results/exploit\"+nexp+\".csv\",False)\n",
      "\n",
      "var1=utils.extractArray_fromCSV(\"Results/rand\"+nexp+\"_variation.csv\",False)"
     ],
     "language": "python",
     "metadata": {},
     "outputs": [],
     "prompt_number": 8
    },
    {
     "cell_type": "code",
     "collapsed": false,
     "input": [
      "#####  Displaying results\n",
      "\n",
      "n_assessments=200\n",
      "K=10\n",
      "eval_num=pointsOfUpdate(n_assessments,K)\n",
      "fig=mce.fig_exp([test1],n_assessments,eval_num,False)"
     ],
     "language": "python",
     "metadata": {},
     "outputs": [
      {
       "metadata": {},
       "output_type": "display_data",
       "png": "[encoded data removed]",
       "text": [
        "<matplotlib.figure.Figure at 0x7f6567933790>"
       ]
      }
     ],
     "prompt_number": 7
    },
    {
     "cell_type": "code",
     "collapsed": false,
     "input": [
      "np.mean(var1,axis=0)"
     ],
     "language": "python",
     "metadata": {},
     "outputs": [
      {
       "metadata": {},
       "output_type": "pyout",
       "prompt_number": 11,
       "text": [
        "array([ 0.06616711,  0.34416376,  0.10251298,  0.51079939,  0.34727756,\n",
        "        0.53543187,  0.79216012,  0.92468799,  0.99879521,  1.19021362,\n",
        "        1.19360809,  1.12530519,  1.33111009,  1.4693278 ,  1.5906726 ,\n",
        "        1.51716242,  1.59125716,  1.51935553])"
       ]
      }
     ],
     "prompt_number": 11
    },
    {
     "cell_type": "code",
     "collapsed": false,
     "input": [
      "np.mean(var1,axis=1)"
     ],
     "language": "python",
     "metadata": {},
     "outputs": [
      {
       "metadata": {},
       "output_type": "pyout",
       "prompt_number": 12,
       "text": [
        "array([ 1.12956797,  1.04326606,  0.99975214,  1.1817116 ,  1.01728939,\n",
        "        0.762935  ,  0.81948923,  0.90807908,  1.34507071,  1.05154419,\n",
        "        0.90236795,  0.74281155,  0.89582874,  1.18880082,  0.9861448 ,\n",
        "        1.25723402,  0.86292681,  0.68812581,  0.80605005,  0.65369884,\n",
        "        0.90745393,  0.86008604,  0.95922665,  0.92272281,  0.89833732,\n",
        "        0.97172695,  0.98268308,  1.21751575,  0.78990926,  0.83099095])"
       ]
      }
     ],
     "prompt_number": 12
    },
    {
     "cell_type": "code",
     "collapsed": false,
     "input": [
      "test1"
     ],
     "language": "python",
     "metadata": {},
     "outputs": [
      {
       "metadata": {},
       "output_type": "pyout",
       "prompt_number": 14,
       "text": [
        "array([[ -2.07167210e-03,  -8.41767584e-03,   1.04381510e-01,\n",
        "         -6.08790916e-02,  -6.08790916e-02,   2.15185597e-01,\n",
        "         -1.46303596e-01,  -1.21118555e-01,   1.77184908e-01,\n",
        "         -1.08794920e-01,  -2.90741048e-02,  -4.83627242e-02,\n",
        "         -5.03563989e-02,  -5.03563989e-02,  -5.03563989e-02,\n",
        "         -7.72462804e-02,   2.49022905e-02,   2.49022905e-02,\n",
        "         -7.77800414e-02],\n",
        "       [ -1.25518360e-01,   8.90679799e-02,   6.93580948e-02,\n",
        "          9.66494932e-04,   3.69709013e-02,   6.32332616e-02,\n",
        "          9.85379528e-01,   1.10462214e+00,   1.04140908e+00,\n",
        "          2.80804434e-01,   4.91260829e-02,   2.48085520e-02,\n",
        "          2.48085520e-02,   5.12803093e-01,   2.48085520e-02,\n",
        "          2.48085520e-02,   6.31069937e-01,   6.31069937e-01,\n",
        "          6.31069937e-01],\n",
        "       [  3.22262349e-02,   1.04381510e-01,   1.38184506e-02,\n",
        "          5.28812830e-02,  -6.08790916e-02,  -7.62060425e-02,\n",
        "          2.84361258e-01,   7.05058793e-02,   3.19705281e-01,\n",
        "          1.11158311e-01,   6.52321994e-01,  -4.42778807e-02,\n",
        "          5.84825586e-01,   6.13243231e-01,   6.31239822e-01,\n",
        "          6.13243231e-01,   6.13494712e-01,   6.47222550e-01,\n",
        "          5.97978615e-01],\n",
        "       [  8.25109698e-02,   6.93580948e-02,   6.93580948e-02,\n",
        "          9.66494932e-04,   9.66494932e-04,   2.45350119e-01,\n",
        "         -5.45244733e-02,  -8.30659302e-02,   2.21114016e-01,\n",
        "          1.77306123e-01,  -8.66425329e-02,  -1.58536274e-01,\n",
        "          2.64027651e-01,   2.69525294e-01,   5.22957652e-01,\n",
        "          5.71384578e-01,   5.89754323e-01,   5.89754323e-01,\n",
        "          6.33502239e-01],\n",
        "       [  6.71673355e-02,   4.32647672e-02,   1.04381510e-01,\n",
        "         -6.08790916e-02,  -3.04544995e-02,   1.50347298e-01,\n",
        "         -3.21988397e-02,   2.34884924e-01,   2.68909714e-01,\n",
        "         -2.96191560e-02,  -4.26675957e-02,   0.00000000e+00,\n",
        "          5.54160927e-01,   6.33502239e-01,   6.13159502e-01,\n",
        "          6.13159502e-01,   6.13159502e-01,   6.13159502e-01,\n",
        "          6.13159502e-01],\n",
        "       [  7.34397687e-02,  -6.99942086e-03,   1.04381510e-01,\n",
        "          5.54990680e-03,   3.59899104e-02,   4.48493969e-02,\n",
        "         -1.01428890e-01,   5.28812830e-02,   3.05201217e-01,\n",
        "          2.47120679e-01,  -1.17872961e-01,   5.43728324e-01,\n",
        "          1.07392103e+00,  -6.26808921e-02,   5.43728324e-01,\n",
        "          5.23215876e-01,  -4.37600525e-02,  -4.37600525e-02,\n",
        "         -4.37479161e-02],\n",
        "       [  1.00302554e-02,   7.71608956e-02,   3.33536884e-02,\n",
        "         -3.04544995e-02,   3.59899104e-02,   5.38550201e-02,\n",
        "          1.75025981e-01,   9.53248201e-02,   4.93677914e-02,\n",
        "         -7.21987454e-02,   9.44507689e-02,   4.99712103e-01,\n",
        "         -6.78501593e-02,   6.33502239e-01,  -4.26612879e-02,\n",
        "          1.40274006e-01,  -5.36192379e-02,  -5.36192379e-02,\n",
        "         -6.78501593e-02],\n",
        "       [  1.80156118e-01,   1.54563745e-01,   4.62811118e-03,\n",
        "          3.33536884e-02,   1.96899775e-02,   5.33755405e-01,\n",
        "         -3.98539537e-02,  -1.44701007e-02,   2.79467154e-01,\n",
        "         -2.74643555e-02,  -8.37213007e-02,  -4.43481933e-02,\n",
        "         -4.31934122e-02,  -4.31934122e-02,  -4.31934122e-02,\n",
        "         -4.31934122e-02,  -4.31934122e-02,  -4.31934122e-02,\n",
        "          5.89379832e-01],\n",
        "       [ -6.08790916e-02,   3.60044064e-02,   3.60044064e-02,\n",
        "          6.93580948e-02,   7.31070234e-02,   1.91497551e-02,\n",
        "          5.13995771e-01,  -2.49748730e-02,  -2.33996621e-02,\n",
        "          6.07581405e-01,   6.51246365e-01,   6.07581405e-01,\n",
        "          5.69489341e-01,   6.33502239e-01,   6.07307924e-01,\n",
        "          6.07307924e-01,   5.89917931e-01,   6.07307924e-01,\n",
        "          6.07307924e-01],\n",
        "       [  7.32192458e-03,  -3.13762952e-02,  -6.17240349e-02,\n",
        "          5.54990680e-03,   9.66494932e-04,   1.73616893e-02,\n",
        "          2.52582767e-02,   1.49220088e-01,  -5.25245511e-02,\n",
        "         -4.43846110e-02,  -7.82608359e-02,  -7.82608359e-02,\n",
        "         -7.82608359e-02,  -5.37958341e-02,  -5.37958341e-02,\n",
        "         -4.42981508e-02,  -4.42919126e-02,   6.07498449e-01,\n",
        "         -4.42981508e-02],\n",
        "       [ -2.71282994e-02,  -5.86699454e-02,   3.69709013e-02,\n",
        "          3.69709013e-02,  -7.79773006e-03,  -1.21612389e-01,\n",
        "          6.95788395e-02,   1.55066858e-01,  -5.60398275e-02,\n",
        "          0.00000000e+00,   0.00000000e+00,   6.07498449e-01,\n",
        "          6.51335296e-01,   0.00000000e+00,   0.00000000e+00,\n",
        "          0.00000000e+00,   0.00000000e+00,   6.31239822e-01,\n",
        "          6.13159502e-01],\n",
        "       [ -1.13023251e-01,   1.78205672e-01,   1.04381510e-01,\n",
        "          3.69709013e-02,   9.66494932e-04,   4.48493969e-02,\n",
        "          3.08640201e-01,   6.83771039e-02,   7.71608956e-02,\n",
        "          6.06945383e-02,  -1.01086170e-01,   1.59187110e-01,\n",
        "          1.23964416e-01,  -1.50229784e-01,   7.70231098e-02,\n",
        "          2.04399566e-02,   2.85268030e-01,   3.05201217e-01,\n",
        "         -5.33290017e-02],\n",
        "       [  2.52640677e-01,   8.87630313e-02,   1.35282128e-01,\n",
        "          9.66494932e-04,   1.04381510e-01,  -2.85204497e-02,\n",
        "          5.94585014e-02,   6.93580948e-02,  -5.36192379e-02,\n",
        "         -1.33533082e-01,   1.66808678e-01,   2.99417925e-01,\n",
        "          5.46015352e-01,   5.46015352e-01,   5.66935178e-01,\n",
        "          6.31069937e-01,   6.31069937e-01,   5.66569011e-01,\n",
        "          5.66569011e-01],\n",
        "       [ -4.35615638e-02,   3.33536884e-02,   4.77053673e-02,\n",
        "          3.59899104e-02,   1.96899775e-02,  -3.30445149e-02,\n",
        "         -1.90864852e-01,  -1.55392079e-01,  -1.67462508e-01,\n",
        "         -1.41659421e-01,  -1.84562359e-02,   2.36233898e-01,\n",
        "          2.32930251e-02,   5.50252015e-01,   5.28705503e-01,\n",
        "          6.27935633e-01,   6.27935633e-01,   5.66462496e-01,\n",
        "          5.43549832e-01],\n",
        "       [ -1.38294503e-01,   6.93580948e-02,   3.69709013e-02,\n",
        "          6.93580948e-02,   1.73616893e-02,   2.52582767e-02,\n",
        "          2.52582767e-02,   2.52582767e-02,  -4.25808231e-02,\n",
        "         -7.65386097e-02,   8.16098000e-01,   1.00273270e+00,\n",
        "          5.31007716e-01,   5.06982493e-01,   5.43549832e-01,\n",
        "          5.88022796e-01,   5.02503705e-01,   6.13494712e-01,\n",
        "          6.32092147e-01],\n",
        "       [  1.29527848e-02,   8.64192024e-02,   3.69709013e-02,\n",
        "          5.54990680e-03,   7.19943168e-02,   1.04381510e-01,\n",
        "          2.48085520e-02,  -4.06541444e-02,  -2.90741048e-02,\n",
        "         -2.23070599e-02,  -2.17437847e-02,  -2.23070599e-02,\n",
        "         -2.23070599e-02,   0.00000000e+00,   0.00000000e+00,\n",
        "          0.00000000e+00,   5.89917931e-01,   5.70367112e-01,\n",
        "          5.89917931e-01],\n",
        "       [ -7.61157140e-02,  -1.26621441e-01,   6.83771039e-02,\n",
        "          9.66494932e-04,   3.69709013e-02,  -1.07401141e-01,\n",
        "         -1.40653781e-01,  -1.75859825e-01,  -1.30599278e-01,\n",
        "          2.02294344e-01,   3.17184124e-01,  -8.80075694e-02,\n",
        "          2.32105501e-01,  -7.54119269e-02,  -4.42981508e-02,\n",
        "         -4.42981508e-02,  -5.13574765e-02,  -5.33290017e-02,\n",
        "          5.69411586e-01],\n",
        "       [  1.04439221e-01,   1.04381510e-01,   1.04381510e-01,\n",
        "         -3.77239378e-02,  -3.04544995e-02,   1.73616893e-02,\n",
        "          6.93580948e-02,   1.35742718e-03,  -1.83048568e-01,\n",
        "         -4.99134693e-02,   2.15258801e-02,   6.10105772e-01,\n",
        "          2.68072334e-01,   6.10105772e-01,  -3.72592293e-03,\n",
        "          6.53480420e-01,   6.53480420e-01,   1.39611465e+00,\n",
        "          6.33502239e-01],\n",
        "       [  5.45446816e-01,   3.60044064e-02,   3.59899104e-02,\n",
        "          3.69709013e-02,   3.69709013e-02,  -3.04544995e-02,\n",
        "          1.12508190e-01,   1.57960050e-01,   1.02595276e-02,\n",
        "          8.95350129e-01,   4.75165811e-01,   2.43939519e-02,\n",
        "          4.86120755e-02,   5.72952798e-01,   5.92981790e-01,\n",
        "          5.92981790e-01,   5.72952798e-01,   6.12949189e-01,\n",
        "          5.92981790e-01],\n",
        "       [ -3.75646911e-02,  -8.41767584e-03,   6.83771039e-02,\n",
        "          9.66494932e-04,   3.69709013e-02,   2.03959880e-01,\n",
        "          2.41379003e-01,  -1.70350300e-01,  -7.86680713e-02,\n",
        "          1.21552550e-01,   6.23976431e-01,  -2.10220396e-01,\n",
        "         -8.21902400e-02,  -1.59180398e-01,   5.29685825e-01,\n",
        "          5.70114671e-01,   5.48311935e-01,  -5.28520059e-02,\n",
        "          5.76083693e-01],\n",
        "       [  6.05164035e-02,   6.83771039e-02,   3.33536884e-02,\n",
        "          3.69709013e-02,   3.69709013e-02,  -3.04544995e-02,\n",
        "          1.62627278e-01,   2.39578208e-01,   3.73660658e-02,\n",
        "          3.06503851e-01,   2.65883253e-01,   5.70417560e-01,\n",
        "          6.98618063e-03,  -2.25576703e-02,   2.56482488e-01,\n",
        "          2.56482488e-01,  -2.33996621e-02,   0.00000000e+00,\n",
        "         -4.37600525e-02],\n",
        "       [  2.76155199e-02,  -1.50763195e-02,   8.90610731e-02,\n",
        "         -1.91358019e-02,  -3.04544995e-02,   5.54990680e-03,\n",
        "          8.82772346e-03,   2.04598964e-02,   5.59802270e-02,\n",
        "          1.47015422e-01,   1.82795760e-01,   2.14619781e-01,\n",
        "          0.00000000e+00,   0.00000000e+00,   0.00000000e+00,\n",
        "          0.00000000e+00,   6.13159502e-01,   5.92981790e-01,\n",
        "          2.49866066e-01],\n",
        "       [ -5.94496003e-02,   1.57097425e-02,   3.48547388e-02,\n",
        "         -3.04544995e-02,   3.69709013e-02,   7.19943168e-02,\n",
        "          1.96899775e-02,  -7.79773006e-03,   3.58415863e-02,\n",
        "         -2.85204497e-02,  -7.66706248e-02,   2.88836203e-01,\n",
        "          3.09318699e-01,   5.89754323e-01,   5.68951319e-01,\n",
        "          1.03337358e+00,   5.68951319e-01,  -4.31934122e-02,\n",
        "         -4.31934122e-02],\n",
        "       [ -2.46982470e-02,   1.47603265e-02,   5.31195276e-01,\n",
        "          6.83771039e-02,   1.40951691e-01,   4.93565267e-02,\n",
        "          3.79632891e-02,  -5.28520059e-02,   0.00000000e+00,\n",
        "         -7.46624367e-02,  -7.46624367e-02,   0.00000000e+00,\n",
        "          0.00000000e+00,  -2.86282134e-02,   6.36171674e-01,\n",
        "          7.16742066e-02,   4.01487759e-02,   4.01487759e-02,\n",
        "          4.01487759e-02],\n",
        "       [  4.88708599e-01,  -3.13762952e-02,   3.33536884e-02,\n",
        "         -6.08790916e-02,  -6.17240349e-02,  -3.26630190e-02,\n",
        "          1.03122515e+00,   7.22927529e-01,   9.89641996e-01,\n",
        "          2.24397289e-01,   2.24397289e-01,   2.05140291e-01,\n",
        "          1.79440915e+00,   1.76022425e+00,   7.37702829e-01,\n",
        "          6.65322421e-01,   6.83214771e-01,   6.81900557e-01,\n",
        "         -4.37479161e-02],\n",
        "       [  8.76705685e-02,   2.48530649e-03,   8.67754369e-02,\n",
        "         -3.04544995e-02,   4.56193158e-02,   4.56193158e-02,\n",
        "          6.03872464e-03,   1.47015422e-01,   2.78300229e-02,\n",
        "          1.64713437e-01,   4.87403250e-01,   5.07064446e-01,\n",
        "          5.66654275e-01,   1.00760510e+00,   9.39297671e-01,\n",
        "          6.31069937e-01,   6.31069937e-01,   6.11052196e-01,\n",
        "          6.11052196e-01],\n",
        "       [ -4.85475252e-02,   1.72656354e-01,   3.69709013e-02,\n",
        "          6.93580948e-02,   1.73616893e-02,   9.41670586e-01,\n",
        "          1.07000647e+00,   1.07000647e+00,   1.02593188e+00,\n",
        "          1.02593188e+00,   1.07000647e+00,   2.48085520e-02,\n",
        "          8.00063649e-01,   8.00063649e-01,   6.31239822e-01,\n",
        "          6.51335296e-01,   6.31069937e-01,   0.00000000e+00,\n",
        "          6.51335296e-01],\n",
        "       [ -6.08790916e-02,   3.40578363e-02,   4.62811118e-03,\n",
        "          4.32647672e-02,   3.59899104e-02,   3.59899104e-02,\n",
        "          1.96899775e-02,   1.20672475e-01,   1.96184275e-01,\n",
        "         -7.57996956e-02,  -5.36192379e-02,  -6.78501593e-02,\n",
        "         -2.90741048e-02,   2.48085520e-02,  -7.72462804e-02,\n",
        "         -5.33290017e-02,  -9.08511878e-02,  -4.13733158e-02,\n",
        "          0.00000000e+00],\n",
        "       [  4.61927205e-01,   6.18674327e-02,   1.51793263e-01,\n",
        "          3.69709013e-02,  -1.13734447e-02,   2.13128877e-01,\n",
        "          2.29038858e-01,   4.56891597e-03,   6.33141261e-01,\n",
        "          7.25230391e-01,   1.58295139e-01,  -3.21988397e-02,\n",
        "         -8.36095902e-02,  -9.24181154e-02,   5.28229484e-01,\n",
        "          5.66654275e-01,   5.86771786e-01,   5.86771786e-01,\n",
        "          6.31069937e-01],\n",
        "       [  7.72852884e-02,   1.75889151e-03,   6.22583939e-02,\n",
        "          9.66494932e-04,  -3.04544995e-02,   1.15969325e-02,\n",
        "          9.66494932e-04,   2.38618916e-01,   2.06674993e-01,\n",
        "         -9.08511878e-02,  -9.24181154e-02,  -5.37958341e-02,\n",
        "          4.86515892e-01,  -5.23448516e-02,   5.34609444e-01,\n",
        "          7.44488651e-01,   5.66569011e-01,   9.23469609e-03,\n",
        "          2.43060377e-02]])"
       ]
      }
     ],
     "prompt_number": 14
    },
    {
     "cell_type": "code",
     "collapsed": false,
     "input": [
      "var=[(test1[i,1]-test1[i,0])**2 for i in range(np.shape(test1)[0])]"
     ],
     "language": "python",
     "metadata": {},
     "outputs": [],
     "prompt_number": 18
    },
    {
     "cell_type": "code",
     "collapsed": false,
     "input": [
      "np.mean(var)"
     ],
     "language": "python",
     "metadata": {},
     "outputs": [
      {
       "metadata": {},
       "output_type": "pyout",
       "prompt_number": 19,
       "text": [
        "0.033837180597985288"
       ]
      }
     ],
     "prompt_number": 19
    },
    {
     "cell_type": "code",
     "collapsed": false,
     "input": [
      "j=10\n",
      "var=[(test1[i,j]-test1[i,j-1])**2 for i in range(np.shape(test1)[0])]\n",
      "np.mean(var)"
     ],
     "language": "python",
     "metadata": {},
     "outputs": [
      {
       "metadata": {},
       "output_type": "pyout",
       "prompt_number": 30,
       "text": [
        "0.079960484323994843"
       ]
      }
     ],
     "prompt_number": 30
    },
    {
     "cell_type": "code",
     "collapsed": false,
     "input": [
      "def variation(res):\n",
      "    variation=list()\n",
      "    for j in range(np.shape(res)[1]-1):\n",
      "        var=[(test1[i,j+1]-test1[i,j])**2 for i in range(np.shape(test1)[0])]\n",
      "        variation.append(np.mean(var))"
     ],
     "language": "python",
     "metadata": {},
     "outputs": []
    }
   ],
   "metadata": {}
  }
 ]
}