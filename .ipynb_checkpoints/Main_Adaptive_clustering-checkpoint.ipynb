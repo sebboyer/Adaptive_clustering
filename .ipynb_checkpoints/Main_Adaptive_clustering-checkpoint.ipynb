{
 "metadata": {
  "name": "",
  "signature": "sha256:6576ab2a8a41ed801fff6a0107895c5e0da4d751c2e8fe0aee0edd0a20d314bc"
 },
 "nbformat": 3,
 "nbformat_minor": 0,
 "worksheets": [
  {
   "cells": [
    {
     "cell_type": "markdown",
     "metadata": {},
     "source": [
      "### Importations"
     ]
    },
    {
     "cell_type": "code",
     "collapsed": false,
     "input": [
      "import numpy as np\n",
      "from copy import copy, deepcopy\n",
      "import EM_algorithm as em\n",
      "from votes_EM_model import *\n",
      "from Assessor_model import *\n",
      "from spectral_graph_clustering import *\n",
      "from visualizations import *\n",
      "from performance_testing import *\n",
      "import real_clusters as rc\n",
      "get_ipython().magic(u'matplotlib inline')"
     ],
     "language": "python",
     "metadata": {},
     "outputs": [
      {
       "output_type": "stream",
       "stream": "stderr",
       "text": [
        "/usr/lib/python2.7/dist-packages/sklearn/pls.py:7: DeprecationWarning: This module has been moved to cross_decomposition and will be removed in 0.16\n",
        "  \"removed in 0.16\", DeprecationWarning)\n"
       ]
      }
     ],
     "prompt_number": 1
    },
    {
     "cell_type": "markdown",
     "metadata": {},
     "source": [
      "### Generate votes with feature model"
     ]
    },
    {
     "cell_type": "code",
     "collapsed": false,
     "input": [
      "############### Creating the objects within different clusters\n",
      "\n",
      "# Setting parameters of the objects\n",
      "n_objects=28\n",
      "n_clusters=2\n",
      "dim=2\n",
      "\n",
      "# Creating n_object objects in n_clusters clusters with dim features\n",
      "set_of_objects=list()\n",
      "for i in range(n_clusters):\n",
      "    C=Cluster(n_objects/n_clusters,3*i,dim)\n",
      "    C.populate_random_multivariate()\n",
      "\n",
      "    \n",
      "    set_of_objects+=[C.objects[i] for i in range(n_objects/n_clusters)]\n",
      "    \n",
      "real_clusters=rc.kmeans_clusters(set_of_objects,n_clusters)\n",
      "visualization_2D(set_of_objects,real_clusters,0,1)"
     ],
     "language": "python",
     "metadata": {},
     "outputs": [
      {
       "metadata": {},
       "output_type": "display_data",
       "png": "[encoded data removed]",
       "text": [
        "<matplotlib.figure.Figure at 0x7faf60433d50>"
       ]
      }
     ],
     "prompt_number": 11
    },
    {
     "cell_type": "code",
     "collapsed": false,
     "input": [
      "\n",
      "############### Creating assessors and generating votes with adaptive method\n",
      "\n",
      "# Setting parameters of the Assessments\n",
      "n_assessors=6\n",
      "n_assessments_per_assessor=3\n",
      "n_object_per_assessment=6\n",
      "\n",
      "# Creating Assessors\n",
      "set_of_assessors=[Assessor((i%10)/float(2),5) for i in range(n_assessors)]\n",
      "\n",
      "# Creating adaptive method\n",
      "def ass_gene(results,n_ass,n_objects):\n",
      "    return np.random.randint(0,n_ass)\n",
      "def set_of_object_gene(results,n_ass,n_objects,n_object_per_assessment):\n",
      "    res=list()\n",
      "    for i in range(n_object_per_assessment):\n",
      "        res.append(np.random.randint(0,n_objects))\n",
      "    return res\n",
      "adaptive_method=Adaptive_method(ass_gene,set_of_object_gene)\n",
      "\n",
      "# Creating experiment\n",
      "exp=Experiment(set_of_assessors,set_of_objects,adaptive_method)\n",
      "\n",
      "# Procede to first adaptive assessment\n",
      "for i in range(200):\n",
      "    exp.procede_adaptive_assessment(n_clusters,n_object_per_assessment)\n",
      "Votes=exp.get_results()\n",
      "symmetrized_Votes(Votes)"
     ],
     "language": "python",
     "metadata": {},
     "outputs": [],
     "prompt_number": 12
    },
    {
     "cell_type": "markdown",
     "metadata": {},
     "source": [
      "### Estimate distance matrix"
     ]
    },
    {
     "cell_type": "code",
     "collapsed": false,
     "input": [
      "# Estimating the distance matrix from a Maximum likelihood EM algorithm\n",
      "\n",
      "Delta_est,Assessors_est,S_est=em.EM_est(Votes,n_objects,0.00001)\n",
      "plt.pcolor(np.ones((n_objects,n_objects))-Delta_est)\n",
      "plt.show()"
     ],
     "language": "python",
     "metadata": {},
     "outputs": [
      {
       "output_type": "stream",
       "stream": "stdout",
       "text": [
        "Convergence reached in 21 iterations\n"
       ]
      },
      {
       "metadata": {},
       "output_type": "display_data",
       "png": "[encoded data removed]",
       "text": [
        "<matplotlib.figure.Figure at 0x7faf60627250>"
       ]
      }
     ],
     "prompt_number": 28
    },
    {
     "cell_type": "code",
     "collapsed": false,
     "input": [
      "# Estimating Adjacency from distance using equal size kmeans\n",
      "est_adj=adjacency_2Clusters_eq(Delta_est,n_objects/2,n_objects/2,2)\n",
      "# Computing clusters indexes from adjacency\n",
      "est_clusters=clusters_from_adjacency(est_adj,n_clusters)\n",
      "# Visualizing the cluster separation\n",
      "visualization_2D(set_of_objects,est_clusters,0,1)"
     ],
     "language": "python",
     "metadata": {},
     "outputs": [
      {
       "metadata": {},
       "output_type": "display_data",
       "png": "[encoded data removed]",
       "text": [
        "<matplotlib.figure.Figure at 0x7faf605f8610>"
       ]
      }
     ],
     "prompt_number": 24
    },
    {
     "cell_type": "code",
     "collapsed": false,
     "input": [
      "n_mutual_info(est_clusters,real_clusters,2)"
     ],
     "language": "python",
     "metadata": {},
     "outputs": [
      {
       "metadata": {},
       "output_type": "pyout",
       "prompt_number": 25,
       "text": [
        "1.0"
       ]
      }
     ],
     "prompt_number": 25
    },
    {
     "cell_type": "code",
     "collapsed": false,
     "input": [
      "    "
     ],
     "language": "python",
     "metadata": {},
     "outputs": []
    }
   ],
   "metadata": {}
  }
 ]
}