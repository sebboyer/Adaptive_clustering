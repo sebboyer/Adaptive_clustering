{
 "metadata": {
  "name": "",
  "signature": "sha256:8e49493c4a27d2f40a3993c2d5842adcccb7f052aecb785ca6abb15ffa33dcbd"
 },
 "nbformat": 3,
 "nbformat_minor": 0,
 "worksheets": [
  {
   "cells": [
    {
     "cell_type": "markdown",
     "metadata": {},
     "source": [
      "### Importations"
     ]
    },
    {
     "cell_type": "code",
     "collapsed": false,
     "input": [
      "import numpy as np\n",
      "from EM_algorithm import *\n",
      "from votes_EM_model import *\n",
      "from Assessor_model import *"
     ],
     "language": "python",
     "metadata": {},
     "outputs": [],
     "prompt_number": 1
    },
    {
     "cell_type": "markdown",
     "metadata": {},
     "source": [
      "### Generate votes with EM model"
     ]
    },
    {
     "cell_type": "code",
     "collapsed": false,
     "input": [
      "# #Objects relationships\n",
      "# N=10\n",
      "# Delta=np.random.rand(N,N)\n",
      "# Delta=0.5*(Delta+Delta.T)\n",
      "# #Assessors accuracy\n",
      "# K=10\n",
      "# Assessors=0.25*np.random.rand(K)\n",
      "# #Votes\n",
      "# Votes={}\n",
      "# for k in range(K):\n",
      "#     Votes[k]={}"
     ],
     "language": "python",
     "metadata": {},
     "outputs": [],
     "prompt_number": 2
    },
    {
     "cell_type": "code",
     "collapsed": false,
     "input": [
      "# k_list=[3,5,7,8,9]\n",
      "# pair_dic={3:[[1,2],[2,3]],5:[[2,3],[6,7]],7:[[5,6],[2,5]],8:[[6,1]],9:[[7,8]]}\n",
      "\n",
      "# Update_Votes(k_list,pair_dic,Votes,Assessors,Delta)"
     ],
     "language": "python",
     "metadata": {},
     "outputs": [],
     "prompt_number": 3
    },
    {
     "cell_type": "markdown",
     "metadata": {},
     "source": [
      "### Generate votes with feature model"
     ]
    },
    {
     "cell_type": "code",
     "collapsed": false,
     "input": [
      "def symmetrized_Votes(votes):\n",
      "    for key in votes:\n",
      "        key_pairs=votes[key].keys()\n",
      "        for key_pair in key_pairs:\n",
      "            votes[key][key_pair[1],key_pair[0]]=votes[key][key_pair]"
     ],
     "language": "python",
     "metadata": {},
     "outputs": [],
     "prompt_number": 9
    },
    {
     "cell_type": "code",
     "collapsed": false,
     "input": [
      "n_object=30\n",
      "n_assessors=10\n",
      "n_assessments_per_assessor=10\n",
      "\n",
      "C=Cluster(n_object/2,1,3)\n",
      "C.populate_random_multivariate()\n",
      "D=Cluster(n_object/2,10,3)\n",
      "D.populate_random_multivariate()\n",
      "\n",
      "set_of_assessors=[Assessor(i%10,5) for i in range(n_assessors)]\n",
      "setC=[C.objects[i] for i in range(n_object/2)]\n",
      "setD=[D.objects[i] for i in range(n_object/2)]\n",
      "set_of_objects=setC+setD\n",
      "\n",
      "assessment_list=list()\n",
      "for i in range(len(set_of_assessors)):\n",
      "    assessment_list+=[[i,[np.random.randint(0,n_object),np.random.randint(0,n_object),np.random.randint(0,n_object),np.random.randint(0,n_object),np.random.randint(0,n_object),np.random.randint(0,n_object)]] for i in range(n_assessments_per_assessor)]\n",
      "\n",
      "exp=Experiment(set_of_assessors,set_of_objects,assessment_list)\n",
      "exp.procede_assessments()\n",
      "Votes=exp.get_results()\n",
      "symmetrized_Votes(Votes)"
     ],
     "language": "python",
     "metadata": {},
     "outputs": [
      {
       "output_type": "stream",
       "stream": "stdout",
       "text": [
        "[1 0 1 1 1 0]\n",
        "[1 1 1 1 0 0]\n",
        "[1 1 1 1 1 0]\n",
        "[1 0 0 0 1 1]\n",
        "[0 1 1 0 0 1]\n",
        "[0 1 0 0 1 0]\n",
        "[0 1 1 1 0 0]"
       ]
      },
      {
       "output_type": "stream",
       "stream": "stdout",
       "text": [
        "\n",
        "[0 1 1 1 0 0]\n",
        "[0 1 1 1 0 1]\n",
        "[1 0 0 0 1 0]\n",
        "[1 0 1 1 0 0]\n",
        "[0 0 0 0 0 1]\n",
        "[0 1 0 0 1 0]"
       ]
      },
      {
       "output_type": "stream",
       "stream": "stdout",
       "text": [
        "\n",
        "[0 0 0 1 1 1]\n",
        "[0 0 1 0 1 0]\n",
        "[0 0 0 1 1 1]\n",
        "[0 0 1 0 1 1]\n",
        "[1 1 0 0 0 0]\n",
        "[0 0 1 1 1 0]"
       ]
      },
      {
       "output_type": "stream",
       "stream": "stdout",
       "text": [
        "\n",
        "[1 0 1 0 1 1]\n",
        "[0 0 0 1 1 1]\n",
        "[0 1 1 1 0 1]\n",
        "[0 0 1 1 1 0]\n",
        "[1 1 0 0 1 0]\n",
        "[1 0 0 0 1 0]"
       ]
      },
      {
       "output_type": "stream",
       "stream": "stdout",
       "text": [
        "\n",
        "[0 1 1 0 1 0]\n",
        "[0 1 1 0 1 1]\n",
        "[1 0 0 0 0 1]\n",
        "[0 0 0 1 1 1]\n",
        "[1 1 1 0 1 1]\n",
        "[0 0 0 1 0 1]"
       ]
      },
      {
       "output_type": "stream",
       "stream": "stdout",
       "text": [
        "\n",
        "[0 1 0 1 0 0]\n",
        "[0 1 1 1 0 0]\n",
        "[1 0 0 0 1 1]\n",
        "[0 1 0 0 1 0]\n",
        "[0 1 1 1 0 0]\n",
        "[0 1 0 0 0 0]"
       ]
      },
      {
       "output_type": "stream",
       "stream": "stdout",
       "text": [
        "\n",
        "[0 1 1 0 0 1]\n",
        "[1 0 1 1 0 0]\n",
        "[1 0 0 1 1 1]\n",
        "[0 1 0 0 0 0]\n",
        "[0 1 0 0 1 0]\n",
        "[0 0 1 1 0 0]"
       ]
      },
      {
       "output_type": "stream",
       "stream": "stdout",
       "text": [
        "\n",
        "[1 1 1 1 0 0]\n",
        "[0 0 0 1 0 0]\n",
        "[0 1 0 0 1 1]\n",
        "[1 0 1 0 1 0]\n",
        "[0 0 0 0 0 1]\n",
        "[1 1 0 0 0 1]"
       ]
      },
      {
       "output_type": "stream",
       "stream": "stdout",
       "text": [
        "\n",
        "[0 0 1 0 1 0]\n",
        "[0 1 0 0 0 1]\n",
        "[0 0 0 0 1 1]\n",
        "[0 0 0 0 0 1]\n",
        "[1 0 0 1 1 0]\n",
        "[0 0 0 1 1 0]"
       ]
      },
      {
       "output_type": "stream",
       "stream": "stdout",
       "text": [
        "\n",
        "[0 0 1 0 1 1]\n",
        "[0 0 0 0 1 0]\n",
        "[0 1 0 0 0 0]\n",
        "[1 1 0 0 1 1]\n",
        "[0 0 0 0 1 1]\n",
        "[1 0 0 0 0 1]"
       ]
      },
      {
       "output_type": "stream",
       "stream": "stdout",
       "text": [
        "\n",
        "[0 0 0 1 0 1]\n",
        "[0 1 0 0 0 1]\n",
        "[1 1 1 0 1 0]\n",
        "[0 1 0 1 0 0]\n",
        "[0 1 0 0 1 0]\n",
        "[0 1 1 0 1 0]"
       ]
      },
      {
       "output_type": "stream",
       "stream": "stdout",
       "text": [
        "\n",
        "[0 1 0 0 0 0]\n",
        "[0 1 0 0 0 0]\n",
        "[0 1 1 1 1 0]\n",
        "[0 0 0 0 0 1]\n",
        "[1 0 1 0 0 0]\n",
        "[1 0 0 1 1 1]"
       ]
      },
      {
       "output_type": "stream",
       "stream": "stdout",
       "text": [
        "\n",
        "[1 0 0 1 0 0]\n",
        "[0 0 0 0 1 0]\n",
        "[1 0 0 1 1 0]\n",
        "[1 1 0 1 1 1]\n",
        "[1 0 0 0 0 1]\n",
        "[0 1 0 0 1 1]"
       ]
      },
      {
       "output_type": "stream",
       "stream": "stdout",
       "text": [
        "\n",
        "[1 0 1 0 1 1]\n",
        "[1 0 1 0 0 1]\n",
        "[1 0 1 1 1 1]\n",
        "[1 0 0 1 0 0]\n",
        "[1 1 1 0 1 0]\n",
        "[1 0 0 0 1 0]"
       ]
      },
      {
       "output_type": "stream",
       "stream": "stdout",
       "text": [
        "\n",
        "[1 0 1 1 1 0]\n",
        "[0 0 0 1 0 0]\n",
        "[0 0 0 0 1 0]\n",
        "[0 0 1 1 0 1]\n",
        "[0 0 0 0 1 1]\n",
        "[0 1 1 1 0 0]"
       ]
      },
      {
       "output_type": "stream",
       "stream": "stdout",
       "text": [
        "\n",
        "[0 1 0 1 0 0]\n",
        "[1 0 0 0 1 0]\n",
        "[0 0 1 0 1 0]\n",
        "[1 0 1 1 0 0]\n",
        "[1 0 0 0 0 1]\n",
        "[0 1 0 0 0 0]"
       ]
      },
      {
       "output_type": "stream",
       "stream": "stdout",
       "text": [
        "\n",
        "[1 0 1 0 1 0]\n",
        "[1 1 1 1 0 1]\n",
        "[1 0 1 1 0 0]\n"
       ]
      }
     ],
     "prompt_number": 14
    },
    {
     "cell_type": "markdown",
     "metadata": {},
     "source": [
      "### Estimate distance matrix"
     ]
    },
    {
     "cell_type": "code",
     "collapsed": false,
     "input": [
      "Delta_est,Assessors_est=EM_est(results,60,0.01)"
     ],
     "language": "python",
     "metadata": {},
     "outputs": [
      {
       "output_type": "stream",
       "stream": "stdout",
       "text": [
        "Convergence reached in 7 iterations\n"
       ]
      }
     ],
     "prompt_number": 11
    },
    {
     "cell_type": "code",
     "collapsed": false,
     "input": [
      "print Delta_est[25:35,25:35]"
     ],
     "language": "python",
     "metadata": {},
     "outputs": [
      {
       "output_type": "stream",
       "stream": "stdout",
       "text": [
        "[[ 0.          0.          0.          0.          0.          0.\n",
        "   0.00461827  0.          0.00119734  0.        ]\n",
        " [ 0.          0.          0.          0.00058163  0.          0.00482874\n",
        "   0.          0.00551845  0.          0.        ]\n",
        " [ 0.          0.          0.          0.          0.          0.00240989\n",
        "   0.          0.          0.          0.        ]\n",
        " [ 0.          0.00058163  0.          0.          0.          0.          0.\n",
        "   0.00285958  0.          0.        ]\n",
        " [ 0.          0.          0.          0.          0.          0.          0.\n",
        "   0.          0.          0.        ]\n",
        " [ 0.          0.00482874  0.00240989  0.          0.          0.          0.\n",
        "   0.          0.          0.0014381 ]\n",
        " [ 0.00461827  0.          0.          0.          0.          0.          0.\n",
        "   0.          0.          0.        ]\n",
        " [ 0.          0.00551845  0.          0.00285958  0.          0.          0.\n",
        "   0.          0.          0.        ]\n",
        " [ 0.00119734  0.          0.          0.          0.          0.          0.\n",
        "   0.          0.          0.        ]\n",
        " [ 0.          0.          0.          0.          0.          0.0014381\n",
        "   0.          0.          0.          0.        ]]\n"
       ]
      }
     ],
     "prompt_number": 13
    },
    {
     "cell_type": "code",
     "collapsed": false,
     "input": [],
     "language": "python",
     "metadata": {},
     "outputs": []
    }
   ],
   "metadata": {}
  }
 ]
}