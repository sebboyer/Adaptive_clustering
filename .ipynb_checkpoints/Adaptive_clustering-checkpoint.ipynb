{
 "metadata": {
  "name": "",
  "signature": "sha256:6576ab2a8a41ed801fff6a0107895c5e0da4d751c2e8fe0aee0edd0a20d314bc"
 },
 "nbformat": 3,
 "nbformat_minor": 0,
 "worksheets": [
  {
   "cells": [
    {
     "cell_type": "markdown",
     "metadata": {},
     "source": [
      "### Importations"
     ]
    },
    {
     "cell_type": "code",
     "collapsed": false,
     "input": [
      "import numpy as np\n",
      "from copy import copy, deepcopy\n",
      "from EM_algorithm import *\n",
      "from votes_EM_model import *\n",
      "from Assessor_model import *\n",
      "from spectral_graph_clustering import *\n",
      "from visualizations import *\n",
      "from performance_testing import *"
     ],
     "language": "python",
     "metadata": {},
     "outputs": [],
     "prompt_number": 50
    },
    {
     "cell_type": "code",
     "collapsed": false,
     "input": [
      "################ Generate votes with EM model\n",
      "\n",
      "# #Objects relationships\n",
      "# N=10\n",
      "# Delta=np.random.rand(N,N)\n",
      "# Delta=0.5*(Delta+Delta.T)\n",
      "# #Assessors accuracy\n",
      "# K=10\n",
      "# Assessors=0.25*np.random.rand(K)\n",
      "# #Votes\n",
      "# Votes={}\n",
      "# for k in range(K):\n",
      "#     Votes[k]={}\n",
      "\n",
      "# k_list=[3,5,7,8,9]\n",
      "# pair_dic={3:[[1,2],[2,3]],5:[[2,3],[6,7]],7:[[5,6],[2,5]],8:[[6,1]],9:[[7,8]]}\n",
      "\n",
      "# Update_Votes(k_list,pair_dic,Votes,Assessors,Delta)"
     ],
     "language": "python",
     "metadata": {},
     "outputs": [],
     "prompt_number": 2
    },
    {
     "cell_type": "markdown",
     "metadata": {},
     "source": [
      "### Generate votes with feature model"
     ]
    },
    {
     "cell_type": "code",
     "collapsed": false,
     "input": [
      "############### Creating the objects within different clusters\n",
      "\n",
      "# Setting parameters of the objects\n",
      "n_objects=28\n",
      "n_clusters=2\n",
      "dim=2\n",
      "\n",
      "# Creating n_object objects in n_clusters clusters with dim features\n",
      "set_of_objects=list()\n",
      "for i in range(n_clusters):\n",
      "    C=Cluster(n_objects/n_clusters,3*i,dim)\n",
      "    C.populate_random_multivariate()\n",
      "    set_of_objects+=[C.objects[i] for i in range(n_objects/n_clusters)]\n",
      "    \n",
      "real_adj=real_adjacency(n_clusters,n_objects)\n",
      "real_clusters=clusters_from_adjacency(real_adj,n_clusters)\n",
      "visualization_2D(set_of_objects,real_clusters,0,1)"
     ],
     "language": "python",
     "metadata": {},
     "outputs": [
      {
       "output_type": "stream",
       "stream": "stderr",
       "text": [
        "/usr/lib/pymodules/python2.7/matplotlib/figure.py:371: UserWarning: matplotlib is currently using a non-GUI backend, so cannot show the figure\n",
        "  \"matplotlib is currently using a non-GUI backend, \"\n"
       ]
      },
      {
       "metadata": {},
       "output_type": "display_data",
       "png": "[encoded data removed]",
       "text": [
        "<matplotlib.figure.Figure at 0x7f9247afe590>"
       ]
      }
     ],
     "prompt_number": 3
    },
    {
     "cell_type": "code",
     "collapsed": false,
     "input": [
      "############### Creating assessors and generating votes\n",
      "\n",
      "\n",
      "# Setting parameters of the Assessments\n",
      "n_assessors=5\n",
      "n_assessments_per_assessor=3\n",
      "n_object_per_assessment=6\n",
      "\n",
      "# Creating Assessors\n",
      "set_of_assessors=[Assessor((i%10)/float(2),5) for i in range(n_assessors)]\n",
      "\n",
      "# Creating Assessments\n",
      "assessment_list=generate_random_assessment(n_object_per_assessment,n_objects,n_assessors,n_assessments_per_assessor)   \n",
      "\n",
      "# Creating experiment\n",
      "exp=Experiment(set_of_assessors,set_of_objects,assessment_list)\n",
      "\n",
      "# Procede to the assessments\n",
      "exp.procede_assessments(n_clusters)\n",
      "Votes=exp.get_results()\n",
      "symmetrized_Votes(Votes)"
     ],
     "language": "python",
     "metadata": {},
     "outputs": [],
     "prompt_number": 36
    },
    {
     "cell_type": "markdown",
     "metadata": {},
     "source": [
      "### Estimate distance matrix"
     ]
    },
    {
     "cell_type": "code",
     "collapsed": false,
     "input": [
      "# Estimating the distance matrix from a Maximum likelihood EM algorithm\n",
      "\n",
      "Delta_est,Assessors_est,S_est=EM_est(Votes,n_objects,0.0001)\n",
      "plt.pcolor(Delta_est)\n",
      "plt.show()"
     ],
     "language": "python",
     "metadata": {},
     "outputs": [
      {
       "output_type": "stream",
       "stream": "stdout",
       "text": [
        "Convergence reached in 18 iterations\n"
       ]
      },
      {
       "metadata": {},
       "output_type": "display_data",
       "png": "[encoded data removed]",
       "text": [
        "<matplotlib.figure.Figure at 0x7f92472e2710>"
       ]
      }
     ],
     "prompt_number": 37
    },
    {
     "cell_type": "code",
     "collapsed": false,
     "input": [
      "print Assessors_est"
     ],
     "language": "python",
     "metadata": {},
     "outputs": [
      {
       "output_type": "stream",
       "stream": "stdout",
       "text": [
        "[ 0.53844681  0.52498665  0.5454423   0.60446314  0.48571171]\n"
       ]
      }
     ],
     "prompt_number": 38
    },
    {
     "cell_type": "code",
     "collapsed": false,
     "input": [
      "# Estimating Adjacency from distance using equal size kmeans\n",
      "est_adj=adjacency_2Clusters_eq(Delta_est,n_objects/2,n_objects/2,2)\n",
      "# Computing clusters indexes from adjacency\n",
      "est_clusters=clusters_from_adjacency(est_adj,n_clusters)\n",
      "# Visualizing the cluster separation\n",
      "visualization_2D(set_of_objects,est_clusters,0,1)"
     ],
     "language": "python",
     "metadata": {},
     "outputs": [
      {
       "metadata": {},
       "output_type": "display_data",
       "png": "[encoded data removed]",
       "text": [
        "<matplotlib.figure.Figure at 0x7f92475fc9d0>"
       ]
      }
     ],
     "prompt_number": 39
    },
    {
     "cell_type": "code",
     "collapsed": false,
     "input": [
      "# # Estimating clusters from the distance matrix using Kmeans algorithm on the eigenvectors of the laplacian\n",
      "# k=2\n",
      "# est_adj=adjacency_KClusters(Delta_est,k)\n",
      "\n",
      "\n",
      "# # Visualization of the cluster estimation\n",
      "\n",
      "# est_clusters=clusters_from_adjacency(est_adj,n_clusters)\n",
      "# visualization_2D(set_of_objects,est_clusters,0,1)"
     ],
     "language": "python",
     "metadata": {},
     "outputs": [],
     "prompt_number": 40
    },
    {
     "cell_type": "code",
     "collapsed": false,
     "input": [
      "# plt.pcolor(est_adj)\n",
      "# plt.show()\n",
      "# plt.pcolor(real_adj)\n",
      "# plt.show()"
     ],
     "language": "python",
     "metadata": {},
     "outputs": [],
     "prompt_number": 52
    },
    {
     "cell_type": "code",
     "collapsed": false,
     "input": [
      "score(real_adj,est_adj)"
     ],
     "language": "python",
     "metadata": {},
     "outputs": [
      {
       "metadata": {},
       "output_type": "pyout",
       "prompt_number": 51,
       "text": [
        "0.13756613756613756"
       ]
      }
     ],
     "prompt_number": 51
    },
    {
     "cell_type": "code",
     "collapsed": false,
     "input": [],
     "language": "python",
     "metadata": {},
     "outputs": []
    }
   ],
   "metadata": {}
  }
 ]
}