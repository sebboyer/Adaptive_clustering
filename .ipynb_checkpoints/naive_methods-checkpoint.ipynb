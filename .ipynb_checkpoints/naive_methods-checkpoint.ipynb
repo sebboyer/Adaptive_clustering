{
 "metadata": {
  "name": ""
 },
 "nbformat": 3,
 "nbformat_minor": 0,
 "worksheets": [
  {
   "cells": [
    {
     "cell_type": "markdown",
     "metadata": {},
     "source": [
      "Naive because don't take into account the history of the performance but only the current state of the problem (current results)"
     ]
    },
    {
     "cell_type": "code",
     "collapsed": false,
     "input": [
      "import numpy as np\n",
      "import Assessor_model as ass\n",
      "import EM_algorithm as em\n",
      "import matplotlib.pyplot as plt\n",
      "get_ipython().magic(u'matplotlib inline')"
     ],
     "language": "python",
     "metadata": {},
     "outputs": [],
     "prompt_number": 21
    },
    {
     "cell_type": "markdown",
     "metadata": {},
     "source": [
      "The framework for adaptive methods is as follows:\n",
      "- one function should generate the assessor index : from 0 to $n_{assessor}$\n",
      "- another function should generate a set of $n_{object Per Assessment}$ objects index from 0 to $n_{objects}$ \n",
      "- both function should use only the existing results contained in $results$ (a dictionnary : $results[ass_{ind}][ob_{ind1},ob_{ind2}]=True$ or $False$"
     ]
    },
    {
     "cell_type": "code",
     "collapsed": false,
     "input": [
      "#Random method\n",
      "\n",
      "def rand_ass_gene(results,n_ass,n_objects):\n",
      "    return np.random.randint(0,n_ass)\n",
      "\n",
      "def rand_ob_gene(results,n_ass,n_objects,n_object_per_assessment):\n",
      "    res=list()\n",
      "    for i in range(n_object_per_assessment):\n",
      "        res.append(np.random.randint(0,n_objects))\n",
      "    return res"
     ],
     "language": "python",
     "metadata": {},
     "outputs": [],
     "prompt_number": 3
    },
    {
     "cell_type": "code",
     "collapsed": false,
     "input": [
      "# Fake data for testing \n",
      "\n",
      "n_ass=3\n",
      "n_objects=12\n",
      "n_object_per_assessment=4\n",
      "\n",
      "results={}\n",
      "for i in range(3):\n",
      "    results[i]={}\n",
      "    \n",
      "results[0][1,3]=True\n",
      "results[0][5,4]=True\n",
      "results[0][2,9]=True\n",
      "results[0][1,7]=True\n",
      "results[0][0,9]=False\n",
      "results[0][8,9]=False\n",
      "results[0][4,10]=False\n",
      "results[0][11,5]=False    \n",
      "\n",
      "\n",
      "results[1][0,2]=True\n",
      "results[1][4,6]=True\n",
      "results[1][8,7]=True\n",
      "results[1][1,3]=False\n",
      "results[1][2,5]=False\n",
      "results[1][2,10]=False\n",
      "results[1][11,1]=False\n",
      "\n",
      "\n",
      "results[2][7,9]=True\n",
      "results[2][1,7]=True\n",
      "results[2][8,9]=False\n",
      "results[2][4,9]=False\n",
      "results[2][4,5]=False\n",
      "results[2][2,1]=False\n"
     ],
     "language": "python",
     "metadata": {},
     "outputs": [],
     "prompt_number": 31
    },
    {
     "cell_type": "code",
     "collapsed": false,
     "input": [
      "rand_ob_gene(results,n_ass,n_objects,n_object_per_assessment)"
     ],
     "language": "python",
     "metadata": {},
     "outputs": [
      {
       "metadata": {},
       "output_type": "pyout",
       "prompt_number": 32,
       "text": [
        "[2, 8, 10, 8]"
       ]
      }
     ],
     "prompt_number": 32
    },
    {
     "cell_type": "code",
     "collapsed": false,
     "input": [
      "Votes=results\n",
      "ass.symmetrized_Votes(Votes)"
     ],
     "language": "python",
     "metadata": {},
     "outputs": [],
     "prompt_number": 33
    },
    {
     "cell_type": "code",
     "collapsed": false,
     "input": [
      "# Estimating the distance matrix from a Maximum likelihood EM algorithm\n",
      "\n",
      "Delta_est,Assessors_est,S_est=em.EM_est(Votes,n_objects,0.001)\n",
      "plt.pcolor(Delta_est)\n",
      "plt.show()"
     ],
     "language": "python",
     "metadata": {},
     "outputs": [
      {
       "output_type": "stream",
       "stream": "stdout",
       "text": [
        "Convergence reached in 16 iterations\n"
       ]
      },
      {
       "metadata": {},
       "output_type": "display_data",
       "png": "[encoded data removed]",
       "text": [
        "<matplotlib.figure.Figure at 0x7f36723df150>"
       ]
      }
     ],
     "prompt_number": 34
    },
    {
     "cell_type": "code",
     "collapsed": false,
     "input": [
      "# Assessor Egalitarian method\n",
      "\n",
      "def rand_ass_gene(results,n_ass,n_objects): # Return least asked assessor\n",
      "    return np.argsort([ len(Votes.values()[i]) for i in Votes.keys()])[0]\n",
      "\n"
     ],
     "language": "python",
     "metadata": {},
     "outputs": []
    },
    {
     "cell_type": "code",
     "collapsed": false,
     "input": [
      "# Objects Egalitarian method\n",
      "def rand_ob_gene(results,n_ass,n_objects,n_object_per_assessment):\n",
      "    res=list()\n",
      "    for i in range(n_object_per_assessment):\n",
      "        res.append(np.random.randint(0,n_objects))\n",
      "    return res"
     ],
     "language": "python",
     "metadata": {},
     "outputs": []
    }
   ],
   "metadata": {}
  }
 ]
}